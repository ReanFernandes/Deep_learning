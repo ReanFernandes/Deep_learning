{
 "cells": [
  {
   "cell_type": "code",
   "execution_count": 8,
   "metadata": {},
   "outputs": [],
   "source": [
    "from micrograd.engine import Value\n",
    "\n",
    "a = Value(-4.0)\n",
    "b = Value(2.0)\n",
    "c = a + b\n",
    "d = a*b+b**3\n",
    "c += c+1\n",
    "d += d*2+(b+a).relu()\n"
   ]
  },
  {
   "cell_type": "code",
   "execution_count": 9,
   "metadata": {},
   "outputs": [],
   "source": [
    "import math\n",
    "import numpy as np\n",
    "import matplotlib.pyplot as plt\n",
    "%matplotlib inline\n",
    "\n",
    "def f(x):\n",
    "    return 3*x**2-4*x+5\n",
    "    "
   ]
  },
  {
   "cell_type": "markdown",
   "metadata": {},
   "source": [
    "Learning about gradients\n"
   ]
  },
  {
   "cell_type": "code",
   "execution_count": 10,
   "metadata": {},
   "outputs": [
    {
     "data": {
      "text/plain": [
       "[<matplotlib.lines.Line2D at 0x7f04f18f3910>]"
      ]
     },
     "execution_count": 10,
     "metadata": {},
     "output_type": "execute_result"
    },
    {
     "data": {
      "image/png": "[encoded data removed]",
      "text/plain": [
       "<Figure size 640x480 with 1 Axes>"
      ]
     },
     "metadata": {},
     "output_type": "display_data"
    }
   ],
   "source": [
    "xs = np.arange(-5,5,.25)\n",
    "ys = f(xs)\n",
    "plt.plot(xs,ys)\n",
    "\n"
   ]
  },
  {
   "cell_type": "markdown",
   "metadata": {},
   "source": [
    "define a small step size h to implement derivation by first principles"
   ]
  },
  {
   "cell_type": "code",
   "execution_count": 11,
   "metadata": {},
   "outputs": [
    {
     "data": {
      "text/plain": [
       "2.999378523327323e-06"
      ]
     },
     "execution_count": 11,
     "metadata": {},
     "output_type": "execute_result"
    }
   ],
   "source": [
    "h = 0.000001\n",
    "x = 2/3\n",
    "(f(x+h)-f(x))/h"
   ]
  },
  {
   "cell_type": "code",
   "execution_count": 12,
   "metadata": {},
   "outputs": [
    {
     "name": "stdout",
     "output_type": "stream",
     "text": [
      "4.0\n"
     ]
    }
   ],
   "source": [
    "a = 2.0\n",
    "b = -3.0 \n",
    "c = 10.0\n",
    "d = a*b+c\n",
    "print(d)"
   ]
  },
  {
   "cell_type": "code",
   "execution_count": 13,
   "metadata": {},
   "outputs": [
    {
     "name": "stdout",
     "output_type": "stream",
     "text": [
      "d1 4.0\n",
      "d2 4.0000002\n",
      "slope 1.9999999967268423\n"
     ]
    }
   ],
   "source": [
    "h = .0000001\n",
    "\n",
    "a = 2.0\n",
    "b = -3.0 \n",
    "c = 10.0\n",
    "\n",
    "d1 = a*b+c\n",
    "b+=h\n",
    "d2 = a*b+c\n",
    "print('d1',d1)\n",
    "print('d2',d2)\n",
    "print('slope',(d2-d1)/h)\n"
   ]
  },
  {
   "cell_type": "code",
   "execution_count": 29,
   "metadata": {},
   "outputs": [
    {
     "data": {
      "text/plain": [
       "Value(data=4.0)"
      ]
     },
     "execution_count": 29,
     "metadata": {},
     "output_type": "execute_result"
    }
   ],
   "source": [
    "class Value:\n",
    "    def __init__(self,data,_children=(),_op = '',label= ''):\n",
    "        self.data = data\n",
    "        self._prev = set(_children)\n",
    "        self._op = _op\n",
    "        self.label = label\n",
    "    def __repr__(self):\n",
    "        return f\"Value(data={self.data})\"\n",
    "    def __add__(self,other):\n",
    "        out = Value(self.data + other.data,(self,other),'+')\n",
    "        return out\n",
    "    def __mul__(self,other):\n",
    "        out  = Value(self.data*  other.data,(self,other),'*')\n",
    "        return out\n",
    "    def __sub__(self,other):\n",
    "        out = Value(self.data-other.data,(self,other),'-')\n",
    "        return out\n",
    "\n",
    "a = Value(2.0)\n",
    "b = Value(-3.0)\n",
    "c = Value(10.0)\n",
    "d = a*b +c\n",
    "d"
   ]
  },
  {
   "cell_type": "markdown",
   "metadata": {},
   "source": [
    "The below cell is just to visualise the connections made by the our class based on given expressions"
   ]
  },
  {
   "cell_type": "code",
   "execution_count": 30,
   "metadata": {},
   "outputs": [],
   "source": [
    "from graphviz import Digraph\n",
    "def trace(root):\n",
    "    nodes,edges = set(),set()\n",
    "    def build(v):\n",
    "        if v not in nodes:\n",
    "            nodes.add(v)\n",
    "            for child in v._prev:\n",
    "                edges.add((child,v))\n",
    "                build(child)\n",
    "    build(root)\n",
    "    return nodes,edges\n",
    "\n",
    "def draw_dot(root):\n",
    "    dot = Digraph(format = 'svg',graph_attr={'rankdir':'LR'})\n",
    "    nodes,edges  = trace(root)\n",
    "    for n in nodes:\n",
    "        uid = str(id(n))\n",
    "        dot.node(name = uid, label = \"{%s | data %.4f}\" %(n.label,n.data,),shape = 'record')\n",
    "        if n._op:\n",
    "            dot.node(name = uid +n._op,label = n._op)\n",
    "            dot.edge(uid+n._op,uid)\n",
    "    for n1,n2 in edges:\n",
    "        dot.edge(str(id(n1)),str(id(n2)) + n2._op)\n",
    "    return dot"
   ]
  },
  {
   "cell_type": "code",
   "execution_count": 33,
   "metadata": {},
   "outputs": [
    {
     "data": {
      "image/svg+xml": "<?xml version=\"1.0\" encoding=\"UTF-8\" standalone=\"no\"?>\n<!DOCTYPE svg PUBLIC \"-//W3C//DTD SVG 1.1//EN\"\n \"http://www.w3.org/Graphics/SVG/1.1/DTD/svg11.dtd\">\n<!-- Generated by graphviz version 2.43.0 (0)\n -->\n<!-- Title: %3 Pages: 1 -->\n<svg width=\"1268pt\" height=\"210pt\"\n viewBox=\"0.00 0.00 1268.00 210.00\" xmlns=\"http://www.w3.org/2000/svg\" xmlns:xlink=\"http://www.w3.org/1999/xlink\">\n<g id=\"graph0\" class=\"graph\" transform=\"scale(1 1) rotate(0) translate(4 206)\">\n<title>%3</title>\n<polygon fill=\"white\" stroke=\"transparent\" points=\"-4,4 -4,-206 1264,-206 1264,4 -4,4\"/>\n<!-- 139660328863344 -->\n<g id=\"node1\" class=\"node\">\n<title>139660328863344</title>\n<polygon fill=\"none\" stroke=\"black\" points=\"4,-110.5 4,-146.5 131,-146.5 131,-110.5 4,-110.5\"/>\n<text text-anchor=\"middle\" x=\"16.5\" y=\"-124.8\" font-family=\"Times,serif\" font-size=\"14.00\">a</text>\n<polyline fill=\"none\" stroke=\"black\" points=\"29,-110.5 29,-146.5 \"/>\n<text text-anchor=\"middle\" x=\"80\" y=\"-124.8\" font-family=\"Times,serif\" font-size=\"14.00\">data 2.0000</text>\n</g>\n<!-- 139660328886768* -->\n<g id=\"node3\" class=\"node\">\n<title>139660328886768*</title>\n<ellipse fill=\"none\" stroke=\"black\" cx=\"198\" cy=\"-182.5\" rx=\"27\" ry=\"18\"/>\n<text text-anchor=\"middle\" x=\"198\" y=\"-178.8\" font-family=\"Times,serif\" font-size=\"14.00\">*</text>\n</g>\n<!-- 139660328863344&#45;&gt;139660328886768* -->\n<g id=\"edge10\" class=\"edge\">\n<title>139660328863344&#45;&gt;139660328886768*</title>\n<path fill=\"none\" stroke=\"black\" d=\"M111.65,-146.63C129.16,-153.99 149.02,-162.34 165.17,-169.13\"/>\n<polygon fill=\"black\" stroke=\"black\" points=\"164.13,-172.48 174.7,-173.13 166.84,-166.03 164.13,-172.48\"/>\n</g>\n<!-- 139659174643168* -->\n<g id=\"node17\" class=\"node\">\n<title>139659174643168*</title>\n<ellipse fill=\"none\" stroke=\"black\" cx=\"198\" cy=\"-73.5\" rx=\"27\" ry=\"18\"/>\n<text text-anchor=\"middle\" x=\"198\" y=\"-69.8\" font-family=\"Times,serif\" font-size=\"14.00\">*</text>\n</g>\n<!-- 139660328863344&#45;&gt;139659174643168* -->\n<g id=\"edge15\" class=\"edge\">\n<title>139660328863344&#45;&gt;139659174643168*</title>\n<path fill=\"none\" stroke=\"black\" d=\"M113.67,-110.43C120.82,-107.49 128.13,-104.45 135,-101.5 145.1,-97.17 156.04,-92.29 165.88,-87.84\"/>\n<polygon fill=\"black\" stroke=\"black\" points=\"167.63,-90.88 175.28,-83.55 164.73,-84.51 167.63,-90.88\"/>\n</g>\n<!-- 139660328886768 -->\n<g id=\"node2\" class=\"node\">\n<title>139660328886768</title>\n<polygon fill=\"none\" stroke=\"black\" points=\"434,-151.5 434,-187.5 566,-187.5 566,-151.5 434,-151.5\"/>\n<text text-anchor=\"middle\" x=\"444.5\" y=\"-165.8\" font-family=\"Times,serif\" font-size=\"14.00\">i</text>\n<polyline fill=\"none\" stroke=\"black\" points=\"455,-151.5 455,-187.5 \"/>\n<text text-anchor=\"middle\" x=\"510.5\" y=\"-165.8\" font-family=\"Times,serif\" font-size=\"14.00\">data 12.0600</text>\n</g>\n<!-- 139660326877936+ -->\n<g id=\"node5\" class=\"node\">\n<title>139660326877936+</title>\n<ellipse fill=\"none\" stroke=\"black\" cx=\"802\" cy=\"-109.5\" rx=\"27\" ry=\"18\"/>\n<text text-anchor=\"middle\" x=\"802\" y=\"-105.8\" font-family=\"Times,serif\" font-size=\"14.00\">+</text>\n</g>\n<!-- 139660328886768&#45;&gt;139660326877936+ -->\n<g id=\"edge19\" class=\"edge\">\n<title>139660328886768&#45;&gt;139660326877936+</title>\n<path fill=\"none\" stroke=\"black\" d=\"M566.19,-165.85C614.61,-161.92 681.89,-153.86 739,-137.5 749.93,-134.37 761.4,-129.64 771.47,-124.95\"/>\n<polygon fill=\"black\" stroke=\"black\" points=\"773.14,-128.02 780.62,-120.52 770.1,-121.72 773.14,-128.02\"/>\n</g>\n<!-- 139660328886768*&#45;&gt;139660328886768 -->\n<g id=\"edge1\" class=\"edge\">\n<title>139660328886768*&#45;&gt;139660328886768</title>\n<path fill=\"none\" stroke=\"black\" d=\"M225.1,-181.37C268.87,-179.47 358.66,-175.58 423.53,-172.77\"/>\n<polygon fill=\"black\" stroke=\"black\" points=\"423.87,-176.26 433.71,-172.33 423.57,-169.27 423.87,-176.26\"/>\n</g>\n<!-- 139660326877936 -->\n<g id=\"node4\" class=\"node\">\n<title>139660326877936</title>\n<polygon fill=\"none\" stroke=\"black\" points=\"865,-84.5 865,-120.5 997,-120.5 997,-84.5 865,-84.5\"/>\n<text text-anchor=\"middle\" x=\"875.5\" y=\"-98.8\" font-family=\"Times,serif\" font-size=\"14.00\"> </text>\n<polyline fill=\"none\" stroke=\"black\" points=\"886,-84.5 886,-120.5 \"/>\n<text text-anchor=\"middle\" x=\"941.5\" y=\"-98.8\" font-family=\"Times,serif\" font-size=\"14.00\">data 66.3600</text>\n</g>\n<!-- 139660326878560&#45; -->\n<g id=\"node11\" class=\"node\">\n<title>139660326878560&#45;</title>\n<ellipse fill=\"none\" stroke=\"black\" cx=\"1060\" cy=\"-74.5\" rx=\"27\" ry=\"18\"/>\n<text text-anchor=\"middle\" x=\"1060\" y=\"-70.8\" font-family=\"Times,serif\" font-size=\"14.00\">&#45;</text>\n</g>\n<!-- 139660326877936&#45;&gt;139660326878560&#45; -->\n<g id=\"edge8\" class=\"edge\">\n<title>139660326877936&#45;&gt;139660326878560&#45;</title>\n<path fill=\"none\" stroke=\"black\" d=\"M997.36,-88.09C1006.69,-86.03 1015.97,-83.99 1024.39,-82.13\"/>\n<polygon fill=\"black\" stroke=\"black\" points=\"1025.17,-85.54 1034.18,-79.97 1023.66,-78.71 1025.17,-85.54\"/>\n</g>\n<!-- 139660326877936+&#45;&gt;139660326877936 -->\n<g id=\"edge2\" class=\"edge\">\n<title>139660326877936+&#45;&gt;139660326877936</title>\n<path fill=\"none\" stroke=\"black\" d=\"M829.01,-108.07C836.73,-107.64 845.62,-107.15 854.84,-106.64\"/>\n<polygon fill=\"black\" stroke=\"black\" points=\"855.15,-110.13 864.94,-106.09 854.76,-103.14 855.15,-110.13\"/>\n</g>\n<!-- 139660326876976 -->\n<g id=\"node6\" class=\"node\">\n<title>139660326876976</title>\n<polygon fill=\"none\" stroke=\"black\" points=\"604.5,-91.5 604.5,-127.5 736.5,-127.5 736.5,-91.5 604.5,-91.5\"/>\n<text text-anchor=\"middle\" x=\"615\" y=\"-105.8\" font-family=\"Times,serif\" font-size=\"14.00\"> </text>\n<polyline fill=\"none\" stroke=\"black\" points=\"625.5,-91.5 625.5,-127.5 \"/>\n<text text-anchor=\"middle\" x=\"681\" y=\"-105.8\" font-family=\"Times,serif\" font-size=\"14.00\">data 54.3000</text>\n</g>\n<!-- 139660326876976&#45;&gt;139660326877936+ -->\n<g id=\"edge20\" class=\"edge\">\n<title>139660326876976&#45;&gt;139660326877936+</title>\n<path fill=\"none\" stroke=\"black\" d=\"M736.63,-109.5C746.3,-109.5 755.96,-109.5 764.75,-109.5\"/>\n<polygon fill=\"black\" stroke=\"black\" points=\"764.97,-113 774.97,-109.5 764.97,-106 764.97,-113\"/>\n</g>\n<!-- 139660326876976+ -->\n<g id=\"node7\" class=\"node\">\n<title>139660326876976+</title>\n<ellipse fill=\"none\" stroke=\"black\" cx=\"500\" cy=\"-109.5\" rx=\"27\" ry=\"18\"/>\n<text text-anchor=\"middle\" x=\"500\" y=\"-105.8\" font-family=\"Times,serif\" font-size=\"14.00\">+</text>\n</g>\n<!-- 139660326876976+&#45;&gt;139660326876976 -->\n<g id=\"edge3\" class=\"edge\">\n<title>139660326876976+&#45;&gt;139660326876976</title>\n<path fill=\"none\" stroke=\"black\" d=\"M527.33,-109.5C545.39,-109.5 570.33,-109.5 594.29,-109.5\"/>\n<polygon fill=\"black\" stroke=\"black\" points=\"594.47,-113 604.47,-109.5 594.47,-106 594.47,-113\"/>\n</g>\n<!-- 139660328889696 -->\n<g id=\"node8\" class=\"node\">\n<title>139660328889696</title>\n<polygon fill=\"none\" stroke=\"black\" points=\"602,-25.5 602,-61.5 739,-61.5 739,-25.5 602,-25.5\"/>\n<text text-anchor=\"middle\" x=\"612.5\" y=\"-39.8\" font-family=\"Times,serif\" font-size=\"14.00\">j</text>\n<polyline fill=\"none\" stroke=\"black\" points=\"623,-25.5 623,-61.5 \"/>\n<text text-anchor=\"middle\" x=\"681\" y=\"-39.8\" font-family=\"Times,serif\" font-size=\"14.00\">data &#45;30.0000</text>\n</g>\n<!-- 139660328889696&#45;&gt;139660326878560&#45; -->\n<g id=\"edge12\" class=\"edge\">\n<title>139660328889696&#45;&gt;139660326878560&#45;</title>\n<path fill=\"none\" stroke=\"black\" d=\"M739.44,-48.94C822.1,-55.55 958.57,-66.47 1023.09,-71.63\"/>\n<polygon fill=\"black\" stroke=\"black\" points=\"1022.92,-75.12 1033.17,-72.43 1023.48,-68.15 1022.92,-75.12\"/>\n</g>\n<!-- 139660328889696* -->\n<g id=\"node9\" class=\"node\">\n<title>139660328889696*</title>\n<ellipse fill=\"none\" stroke=\"black\" cx=\"198\" cy=\"-19.5\" rx=\"27\" ry=\"18\"/>\n<text text-anchor=\"middle\" x=\"198\" y=\"-15.8\" font-family=\"Times,serif\" font-size=\"14.00\">*</text>\n</g>\n<!-- 139660328889696*&#45;&gt;139660328889696 -->\n<g id=\"edge4\" class=\"edge\">\n<title>139660328889696*&#45;&gt;139660328889696</title>\n<path fill=\"none\" stroke=\"black\" d=\"M224.97,-20.82C293.92,-24.34 483.74,-34.02 591.72,-39.53\"/>\n<polygon fill=\"black\" stroke=\"black\" points=\"591.74,-43.04 601.91,-40.05 592.1,-36.05 591.74,-43.04\"/>\n</g>\n<!-- 139660326878560 -->\n<g id=\"node10\" class=\"node\">\n<title>139660326878560</title>\n<polygon fill=\"none\" stroke=\"black\" points=\"1123,-56.5 1123,-92.5 1260,-92.5 1260,-56.5 1123,-56.5\"/>\n<text text-anchor=\"middle\" x=\"1136\" y=\"-70.8\" font-family=\"Times,serif\" font-size=\"14.00\">d</text>\n<polyline fill=\"none\" stroke=\"black\" points=\"1149,-56.5 1149,-92.5 \"/>\n<text text-anchor=\"middle\" x=\"1204.5\" y=\"-70.8\" font-family=\"Times,serif\" font-size=\"14.00\">data 96.3600</text>\n</g>\n<!-- 139660326878560&#45;&#45;&gt;139660326878560 -->\n<g id=\"edge5\" class=\"edge\">\n<title>139660326878560&#45;&#45;&gt;139660326878560</title>\n<path fill=\"none\" stroke=\"black\" d=\"M1087.21,-74.5C1094.86,-74.5 1103.64,-74.5 1112.78,-74.5\"/>\n<polygon fill=\"black\" stroke=\"black\" points=\"1112.81,-78 1122.81,-74.5 1112.81,-71 1112.81,-78\"/>\n</g>\n<!-- 139660328862048 -->\n<g id=\"node12\" class=\"node\">\n<title>139660328862048</title>\n<polygon fill=\"none\" stroke=\"black\" points=\"1,-0.5 1,-36.5 134,-36.5 134,-0.5 1,-0.5\"/>\n<text text-anchor=\"middle\" x=\"14\" y=\"-14.8\" font-family=\"Times,serif\" font-size=\"14.00\">b</text>\n<polyline fill=\"none\" stroke=\"black\" points=\"27,-0.5 27,-36.5 \"/>\n<text text-anchor=\"middle\" x=\"80.5\" y=\"-14.8\" font-family=\"Times,serif\" font-size=\"14.00\">data &#45;3.0000</text>\n</g>\n<!-- 139660328862048&#45;&gt;139660328889696* -->\n<g id=\"edge14\" class=\"edge\">\n<title>139660328862048&#45;&gt;139660328889696*</title>\n<path fill=\"none\" stroke=\"black\" d=\"M134.26,-19.01C143.37,-19.08 152.45,-19.15 160.75,-19.22\"/>\n<polygon fill=\"black\" stroke=\"black\" points=\"160.77,-22.72 170.8,-19.3 160.83,-15.72 160.77,-22.72\"/>\n</g>\n<!-- 139660328862048&#45;&gt;139659174643168* -->\n<g id=\"edge13\" class=\"edge\">\n<title>139660328862048&#45;&gt;139659174643168*</title>\n<path fill=\"none\" stroke=\"black\" d=\"M111.82,-36.65C119.54,-39.91 127.52,-43.29 135,-46.5 144.96,-50.76 155.79,-55.46 165.57,-59.72\"/>\n<polygon fill=\"black\" stroke=\"black\" points=\"164.37,-63.02 174.93,-63.81 167.17,-56.6 164.37,-63.02\"/>\n</g>\n<!-- 139659174645088 -->\n<g id=\"node13\" class=\"node\">\n<title>139659174645088</title>\n<polygon fill=\"none\" stroke=\"black\" points=\"5.5,-165.5 5.5,-201.5 129.5,-201.5 129.5,-165.5 5.5,-165.5\"/>\n<text text-anchor=\"middle\" x=\"16.5\" y=\"-179.8\" font-family=\"Times,serif\" font-size=\"14.00\">f</text>\n<polyline fill=\"none\" stroke=\"black\" points=\"27.5,-165.5 27.5,-201.5 \"/>\n<text text-anchor=\"middle\" x=\"78.5\" y=\"-179.8\" font-family=\"Times,serif\" font-size=\"14.00\">data 6.0300</text>\n</g>\n<!-- 139659174645088&#45;&gt;139660328886768* -->\n<g id=\"edge21\" class=\"edge\">\n<title>139659174645088&#45;&gt;139660328886768*</title>\n<path fill=\"none\" stroke=\"black\" d=\"M129.74,-183.02C140.37,-182.94 151.12,-182.86 160.8,-182.78\"/>\n<polygon fill=\"black\" stroke=\"black\" points=\"160.87,-186.28 170.84,-182.7 160.81,-179.28 160.87,-186.28\"/>\n</g>\n<!-- 139659174642640* -->\n<g id=\"node15\" class=\"node\">\n<title>139659174642640*</title>\n<ellipse fill=\"none\" stroke=\"black\" cx=\"198\" cy=\"-128.5\" rx=\"27\" ry=\"18\"/>\n<text text-anchor=\"middle\" x=\"198\" y=\"-124.8\" font-family=\"Times,serif\" font-size=\"14.00\">*</text>\n</g>\n<!-- 139659174645088&#45;&gt;139659174642640* -->\n<g id=\"edge11\" class=\"edge\">\n<title>139659174645088&#45;&gt;139659174642640*</title>\n<path fill=\"none\" stroke=\"black\" d=\"M113.67,-165.43C120.82,-162.49 128.13,-159.45 135,-156.5 145.1,-152.17 156.04,-147.29 165.88,-142.84\"/>\n<polygon fill=\"black\" stroke=\"black\" points=\"167.63,-145.88 175.28,-138.55 164.73,-139.51 167.63,-145.88\"/>\n</g>\n<!-- 139659174642640 -->\n<g id=\"node14\" class=\"node\">\n<title>139659174642640</title>\n<polygon fill=\"none\" stroke=\"black\" points=\"261,-110.5 261,-146.5 398,-146.5 398,-110.5 261,-110.5\"/>\n<text text-anchor=\"middle\" x=\"274\" y=\"-124.8\" font-family=\"Times,serif\" font-size=\"14.00\">h</text>\n<polyline fill=\"none\" stroke=\"black\" points=\"287,-110.5 287,-146.5 \"/>\n<text text-anchor=\"middle\" x=\"342.5\" y=\"-124.8\" font-family=\"Times,serif\" font-size=\"14.00\">data 60.3000</text>\n</g>\n<!-- 139659174642640&#45;&gt;139660326876976+ -->\n<g id=\"edge16\" class=\"edge\">\n<title>139659174642640&#45;&gt;139660326876976+</title>\n<path fill=\"none\" stroke=\"black\" d=\"M398.06,-120.88C420.31,-118.37 444.18,-115.68 463.12,-113.55\"/>\n<polygon fill=\"black\" stroke=\"black\" points=\"463.54,-117.02 473.09,-112.42 462.76,-110.06 463.54,-117.02\"/>\n</g>\n<!-- 139659174642640*&#45;&gt;139659174642640 -->\n<g id=\"edge6\" class=\"edge\">\n<title>139659174642640*&#45;&gt;139659174642640</title>\n<path fill=\"none\" stroke=\"black\" d=\"M225.21,-128.5C232.86,-128.5 241.64,-128.5 250.78,-128.5\"/>\n<polygon fill=\"black\" stroke=\"black\" points=\"250.81,-132 260.81,-128.5 250.81,-125 250.81,-132\"/>\n</g>\n<!-- 139659174643168 -->\n<g id=\"node16\" class=\"node\">\n<title>139659174643168</title>\n<polygon fill=\"none\" stroke=\"black\" points=\"263,-55.5 263,-91.5 396,-91.5 396,-55.5 263,-55.5\"/>\n<text text-anchor=\"middle\" x=\"276\" y=\"-69.8\" font-family=\"Times,serif\" font-size=\"14.00\">g</text>\n<polyline fill=\"none\" stroke=\"black\" points=\"289,-55.5 289,-91.5 \"/>\n<text text-anchor=\"middle\" x=\"342.5\" y=\"-69.8\" font-family=\"Times,serif\" font-size=\"14.00\">data &#45;6.0000</text>\n</g>\n<!-- 139659174643168&#45;&gt;139660326876976+ -->\n<g id=\"edge18\" class=\"edge\">\n<title>139659174643168&#45;&gt;139660326876976+</title>\n<path fill=\"none\" stroke=\"black\" d=\"M396.13,-87.52C419.31,-92.48 444.48,-97.85 464.12,-102.05\"/>\n<polygon fill=\"black\" stroke=\"black\" points=\"463.62,-105.52 474.13,-104.19 465.08,-98.67 463.62,-105.52\"/>\n</g>\n<!-- 139659174643168*&#45;&gt;139659174643168 -->\n<g id=\"edge7\" class=\"edge\">\n<title>139659174643168*&#45;&gt;139659174643168</title>\n<path fill=\"none\" stroke=\"black\" d=\"M225.21,-73.5C233.47,-73.5 243.04,-73.5 252.96,-73.5\"/>\n<polygon fill=\"black\" stroke=\"black\" points=\"252.96,-77 262.96,-73.5 252.96,-70 252.96,-77\"/>\n</g>\n<!-- 139660328862192 -->\n<g id=\"node18\" class=\"node\">\n<title>139660328862192</title>\n<polygon fill=\"none\" stroke=\"black\" points=\"0,-55.5 0,-91.5 135,-91.5 135,-55.5 0,-55.5\"/>\n<text text-anchor=\"middle\" x=\"12\" y=\"-69.8\" font-family=\"Times,serif\" font-size=\"14.00\">c</text>\n<polyline fill=\"none\" stroke=\"black\" points=\"24,-55.5 24,-91.5 \"/>\n<text text-anchor=\"middle\" x=\"79.5\" y=\"-69.8\" font-family=\"Times,serif\" font-size=\"14.00\">data 10.0000</text>\n</g>\n<!-- 139660328862192&#45;&gt;139660328889696* -->\n<g id=\"edge9\" class=\"edge\">\n<title>139660328862192&#45;&gt;139660328889696*</title>\n<path fill=\"none\" stroke=\"black\" d=\"M113.28,-55.5C120.55,-52.52 127.99,-49.45 135,-46.5 144.98,-42.3 155.82,-37.62 165.6,-33.35\"/>\n<polygon fill=\"black\" stroke=\"black\" points=\"167.21,-36.47 174.96,-29.26 164.4,-30.06 167.21,-36.47\"/>\n</g>\n<!-- 139660328862192&#45;&gt;139659174642640* -->\n<g id=\"edge17\" class=\"edge\">\n<title>139660328862192&#45;&gt;139659174642640*</title>\n<path fill=\"none\" stroke=\"black\" d=\"M111.82,-91.65C119.54,-94.91 127.52,-98.29 135,-101.5 144.96,-105.76 155.79,-110.46 165.57,-114.72\"/>\n<polygon fill=\"black\" stroke=\"black\" points=\"164.37,-118.02 174.93,-118.81 167.17,-111.6 164.37,-118.02\"/>\n</g>\n</g>\n</svg>\n",
      "text/plain": [
       "<graphviz.graphs.Digraph at 0x7f04ef7e8820>"
      ]
     },
     "execution_count": 33,
     "metadata": {},
     "output_type": "execute_result"
    }
   ],
   "source": [
    "a = Value(2.0,label = 'a')\n",
    "b = Value(-3.0,label = 'b')\n",
    "c = Value(10.0,label = 'c')\n",
    "f = Value(6.03,label = 'f')\n",
    "g = a*b;g.label = 'g'\n",
    "h = c*f;h.label = 'h'\n",
    "i = f*a;i.label = 'i'\n",
    "j = b*c;j.label = 'j'\n",
    "d = g+h+i-j;d.label = 'd'\n",
    "draw_dot(d)"
   ]
  },
  {
   "cell_type": "markdown",
   "metadata": {},
   "source": [
    "Now we run backpropagation to calculate the gradient along all the values ( basically backward differentiation).\n",
    "The derivative are what give us the weights for the networks. \n",
    "The modified block below just adds grad to our value class and also a visualisation of the gradient in the Graph form\n"
   ]
  },
  {
   "cell_type": "code",
   "execution_count": 36,
   "metadata": {},
   "outputs": [],
   "source": [
    "from graphviz import Digraph\n",
    "\n",
    "class Value:\n",
    "    def __init__(self,data,_children=(),_op = '',label= ''):\n",
    "        self.data = data\n",
    "        self.grad = 0.0\n",
    "        self._prev = set(_children)\n",
    "        self._op = _op\n",
    "        self.label = label\n",
    "    def __repr__(self):\n",
    "        return f\"Value(data={self.data})\"\n",
    "    def __add__(self,other):\n",
    "        out = Value(self.data + other.data,(self,other),'+')\n",
    "        return out\n",
    "    def __mul__(self,other):\n",
    "        out  = Value(self.data*  other.data,(self,other),'*')\n",
    "        return out\n",
    "    def __sub__(self,other):\n",
    "        out = Value(self.data-other.data,(self,other),'-')\n",
    "        return out\n",
    "\n",
    "\n",
    "def trace(root):\n",
    "    nodes,edges = set(),set()\n",
    "    def build(v):\n",
    "        if v not in nodes:\n",
    "            nodes.add(v)\n",
    "            for child in v._prev:\n",
    "                edges.add((child,v))\n",
    "                build(child)\n",
    "    build(root)\n",
    "    return nodes,edges\n",
    "\n",
    "def draw_dot(root):\n",
    "    dot = Digraph(format = 'svg',graph_attr={'rankdir':'LR'})\n",
    "    nodes,edges  = trace(root)\n",
    "    for n in nodes:\n",
    "        uid = str(id(n))\n",
    "        dot.node(name = uid, label = \"{%s | data %.4f | grad %.4f}\" %(n.label,n.data,n.grad),shape = 'record')\n",
    "        if n._op:\n",
    "            dot.node(name = uid +n._op,label = n._op)\n",
    "            dot.edge(uid+n._op,uid)\n",
    "    for n1,n2 in edges:\n",
    "        dot.edge(str(id(n1)),str(id(n2)) + n2._op)\n",
    "    return dot\n"
   ]
  },
  {
   "cell_type": "code",
   "execution_count": 37,
   "metadata": {},
   "outputs": [
    {
     "data": {
      "image/svg+xml": "<?xml version=\"1.0\" encoding=\"UTF-8\" standalone=\"no\"?>\n<!DOCTYPE svg PUBLIC \"-//W3C//DTD SVG 1.1//EN\"\n \"http://www.w3.org/Graphics/SVG/1.1/DTD/svg11.dtd\">\n<!-- Generated by graphviz version 2.43.0 (0)\n -->\n<!-- Title: %3 Pages: 1 -->\n<svg width=\"1892pt\" height=\"210pt\"\n viewBox=\"0.00 0.00 1892.00 210.00\" xmlns=\"http://www.w3.org/2000/svg\" xmlns:xlink=\"http://www.w3.org/1999/xlink\">\n<g id=\"graph0\" class=\"graph\" transform=\"scale(1 1) rotate(0) translate(4 206)\">\n<title>%3</title>\n<polygon fill=\"white\" stroke=\"transparent\" points=\"-4,4 -4,-206 1888,-206 1888,4 -4,4\"/>\n<!-- 139659174642256 -->\n<g id=\"node1\" class=\"node\">\n<title>139659174642256</title>\n<polygon fill=\"none\" stroke=\"black\" points=\"642,-151.5 642,-187.5 878,-187.5 878,-151.5 642,-151.5\"/>\n<text text-anchor=\"middle\" x=\"652.5\" y=\"-165.8\" font-family=\"Times,serif\" font-size=\"14.00\">i</text>\n<polyline fill=\"none\" stroke=\"black\" points=\"663,-151.5 663,-187.5 \"/>\n<text text-anchor=\"middle\" x=\"718.5\" y=\"-165.8\" font-family=\"Times,serif\" font-size=\"14.00\">data 12.0600</text>\n<polyline fill=\"none\" stroke=\"black\" points=\"774,-151.5 774,-187.5 \"/>\n<text text-anchor=\"middle\" x=\"826\" y=\"-165.8\" font-family=\"Times,serif\" font-size=\"14.00\">grad 0.0000</text>\n</g>\n<!-- 139659935176352+ -->\n<g id=\"node6\" class=\"node\">\n<title>139659935176352+</title>\n<ellipse fill=\"none\" stroke=\"black\" cx=\"1218\" cy=\"-109.5\" rx=\"27\" ry=\"18\"/>\n<text text-anchor=\"middle\" x=\"1218\" y=\"-105.8\" font-family=\"Times,serif\" font-size=\"14.00\">+</text>\n</g>\n<!-- 139659174642256&#45;&gt;139659935176352+ -->\n<g id=\"edge20\" class=\"edge\">\n<title>139659174642256&#45;&gt;139659935176352+</title>\n<path fill=\"none\" stroke=\"black\" d=\"M878.24,-170.42C957.53,-168.51 1063.96,-161 1155,-137.5 1166.01,-134.66 1177.5,-130 1187.56,-125.28\"/>\n<polygon fill=\"black\" stroke=\"black\" points=\"1189.26,-128.35 1196.7,-120.81 1186.18,-122.06 1189.26,-128.35\"/>\n</g>\n<!-- 139659174642256* -->\n<g id=\"node2\" class=\"node\">\n<title>139659174642256*</title>\n<ellipse fill=\"none\" stroke=\"black\" cx=\"302\" cy=\"-182.5\" rx=\"27\" ry=\"18\"/>\n<text text-anchor=\"middle\" x=\"302\" y=\"-178.8\" font-family=\"Times,serif\" font-size=\"14.00\">*</text>\n</g>\n<!-- 139659174642256*&#45;&gt;139659174642256 -->\n<g id=\"edge1\" class=\"edge\">\n<title>139659174642256*&#45;&gt;139659174642256</title>\n<path fill=\"none\" stroke=\"black\" d=\"M329.15,-181.75C386.58,-180.12 526.94,-176.12 631.74,-173.13\"/>\n<polygon fill=\"black\" stroke=\"black\" points=\"631.87,-176.63 641.77,-172.84 631.67,-169.63 631.87,-176.63\"/>\n</g>\n<!-- 139659935176304 -->\n<g id=\"node3\" class=\"node\">\n<title>139659935176304</title>\n<polygon fill=\"none\" stroke=\"black\" points=\"1643,-56.5 1643,-92.5 1884,-92.5 1884,-56.5 1643,-56.5\"/>\n<text text-anchor=\"middle\" x=\"1656\" y=\"-70.8\" font-family=\"Times,serif\" font-size=\"14.00\">d</text>\n<polyline fill=\"none\" stroke=\"black\" points=\"1669,-56.5 1669,-92.5 \"/>\n<text text-anchor=\"middle\" x=\"1724.5\" y=\"-70.8\" font-family=\"Times,serif\" font-size=\"14.00\">data 96.3600</text>\n<polyline fill=\"none\" stroke=\"black\" points=\"1780,-56.5 1780,-92.5 \"/>\n<text text-anchor=\"middle\" x=\"1832\" y=\"-70.8\" font-family=\"Times,serif\" font-size=\"14.00\">grad 0.0000</text>\n</g>\n<!-- 139659935176304&#45; -->\n<g id=\"node4\" class=\"node\">\n<title>139659935176304&#45;</title>\n<ellipse fill=\"none\" stroke=\"black\" cx=\"1580\" cy=\"-74.5\" rx=\"27\" ry=\"18\"/>\n<text text-anchor=\"middle\" x=\"1580\" y=\"-70.8\" font-family=\"Times,serif\" font-size=\"14.00\">&#45;</text>\n</g>\n<!-- 139659935176304&#45;&#45;&gt;139659935176304 -->\n<g id=\"edge2\" class=\"edge\">\n<title>139659935176304&#45;&#45;&gt;139659935176304</title>\n<path fill=\"none\" stroke=\"black\" d=\"M1607,-74.5C1614.5,-74.5 1623.22,-74.5 1632.64,-74.5\"/>\n<polygon fill=\"black\" stroke=\"black\" points=\"1632.68,-78 1642.68,-74.5 1632.68,-71 1632.68,-78\"/>\n</g>\n<!-- 139659935176352 -->\n<g id=\"node5\" class=\"node\">\n<title>139659935176352</title>\n<polygon fill=\"none\" stroke=\"black\" points=\"1281,-84.5 1281,-120.5 1517,-120.5 1517,-84.5 1281,-84.5\"/>\n<text text-anchor=\"middle\" x=\"1291.5\" y=\"-98.8\" font-family=\"Times,serif\" font-size=\"14.00\"> </text>\n<polyline fill=\"none\" stroke=\"black\" points=\"1302,-84.5 1302,-120.5 \"/>\n<text text-anchor=\"middle\" x=\"1357.5\" y=\"-98.8\" font-family=\"Times,serif\" font-size=\"14.00\">data 66.3600</text>\n<polyline fill=\"none\" stroke=\"black\" points=\"1413,-84.5 1413,-120.5 \"/>\n<text text-anchor=\"middle\" x=\"1465\" y=\"-98.8\" font-family=\"Times,serif\" font-size=\"14.00\">grad 0.0000</text>\n</g>\n<!-- 139659935176352&#45;&gt;139659935176304&#45; -->\n<g id=\"edge19\" class=\"edge\">\n<title>139659935176352&#45;&gt;139659935176304&#45;</title>\n<path fill=\"none\" stroke=\"black\" d=\"M1515.13,-84.49C1525.27,-82.91 1534.92,-81.4 1543.51,-80.05\"/>\n<polygon fill=\"black\" stroke=\"black\" points=\"1544.09,-83.5 1553.43,-78.5 1543.01,-76.59 1544.09,-83.5\"/>\n</g>\n<!-- 139659935176352+&#45;&gt;139659935176352 -->\n<g id=\"edge3\" class=\"edge\">\n<title>139659935176352+&#45;&gt;139659935176352</title>\n<path fill=\"none\" stroke=\"black\" d=\"M1245.03,-108.48C1252.58,-108.19 1261.38,-107.84 1270.87,-107.47\"/>\n<polygon fill=\"black\" stroke=\"black\" points=\"1271.13,-110.96 1280.99,-107.08 1270.86,-103.97 1271.13,-110.96\"/>\n</g>\n<!-- 139659935176400 -->\n<g id=\"node7\" class=\"node\">\n<title>139659935176400</title>\n<polygon fill=\"none\" stroke=\"black\" points=\"916.5,-91.5 916.5,-127.5 1152.5,-127.5 1152.5,-91.5 916.5,-91.5\"/>\n<text text-anchor=\"middle\" x=\"927\" y=\"-105.8\" font-family=\"Times,serif\" font-size=\"14.00\"> </text>\n<polyline fill=\"none\" stroke=\"black\" points=\"937.5,-91.5 937.5,-127.5 \"/>\n<text text-anchor=\"middle\" x=\"993\" y=\"-105.8\" font-family=\"Times,serif\" font-size=\"14.00\">data 54.3000</text>\n<polyline fill=\"none\" stroke=\"black\" points=\"1048.5,-91.5 1048.5,-127.5 \"/>\n<text text-anchor=\"middle\" x=\"1100.5\" y=\"-105.8\" font-family=\"Times,serif\" font-size=\"14.00\">grad 0.0000</text>\n</g>\n<!-- 139659935176400&#45;&gt;139659935176352+ -->\n<g id=\"edge18\" class=\"edge\">\n<title>139659935176400&#45;&gt;139659935176352+</title>\n<path fill=\"none\" stroke=\"black\" d=\"M1152.75,-109.5C1162.75,-109.5 1172.28,-109.5 1180.79,-109.5\"/>\n<polygon fill=\"black\" stroke=\"black\" points=\"1180.99,-113 1190.99,-109.5 1180.99,-106 1180.99,-113\"/>\n</g>\n<!-- 139659935176400+ -->\n<g id=\"node8\" class=\"node\">\n<title>139659935176400+</title>\n<ellipse fill=\"none\" stroke=\"black\" cx=\"760\" cy=\"-109.5\" rx=\"27\" ry=\"18\"/>\n<text text-anchor=\"middle\" x=\"760\" y=\"-105.8\" font-family=\"Times,serif\" font-size=\"14.00\">+</text>\n</g>\n<!-- 139659935176400+&#45;&gt;139659935176400 -->\n<g id=\"edge4\" class=\"edge\">\n<title>139659935176400+&#45;&gt;139659935176400</title>\n<path fill=\"none\" stroke=\"black\" d=\"M787.13,-109.5C814.99,-109.5 861.21,-109.5 906.14,-109.5\"/>\n<polygon fill=\"black\" stroke=\"black\" points=\"906.3,-113 916.3,-109.5 906.3,-106 906.3,-113\"/>\n</g>\n<!-- 139659173962464 -->\n<g id=\"node9\" class=\"node\">\n<title>139659173962464</title>\n<polygon fill=\"none\" stroke=\"black\" points=\"367,-110.5 367,-146.5 604,-146.5 604,-110.5 367,-110.5\"/>\n<text text-anchor=\"middle\" x=\"380\" y=\"-124.8\" font-family=\"Times,serif\" font-size=\"14.00\">g</text>\n<polyline fill=\"none\" stroke=\"black\" points=\"393,-110.5 393,-146.5 \"/>\n<text text-anchor=\"middle\" x=\"446.5\" y=\"-124.8\" font-family=\"Times,serif\" font-size=\"14.00\">data &#45;6.0000</text>\n<polyline fill=\"none\" stroke=\"black\" points=\"500,-110.5 500,-146.5 \"/>\n<text text-anchor=\"middle\" x=\"552\" y=\"-124.8\" font-family=\"Times,serif\" font-size=\"14.00\">grad 0.0000</text>\n</g>\n<!-- 139659173962464&#45;&gt;139659935176400+ -->\n<g id=\"edge12\" class=\"edge\">\n<title>139659173962464&#45;&gt;139659935176400+</title>\n<path fill=\"none\" stroke=\"black\" d=\"M604.04,-120.3C646.95,-117.31 692.38,-114.14 722.88,-112.02\"/>\n<polygon fill=\"black\" stroke=\"black\" points=\"723.28,-115.5 733.01,-111.31 722.79,-108.52 723.28,-115.5\"/>\n</g>\n<!-- 139659173962464* -->\n<g id=\"node10\" class=\"node\">\n<title>139659173962464*</title>\n<ellipse fill=\"none\" stroke=\"black\" cx=\"302\" cy=\"-128.5\" rx=\"27\" ry=\"18\"/>\n<text text-anchor=\"middle\" x=\"302\" y=\"-124.8\" font-family=\"Times,serif\" font-size=\"14.00\">*</text>\n</g>\n<!-- 139659173962464*&#45;&gt;139659173962464 -->\n<g id=\"edge5\" class=\"edge\">\n<title>139659173962464*&#45;&gt;139659173962464</title>\n<path fill=\"none\" stroke=\"black\" d=\"M329,-128.5C336.94,-128.5 346.26,-128.5 356.33,-128.5\"/>\n<polygon fill=\"black\" stroke=\"black\" points=\"356.62,-132 366.62,-128.5 356.62,-125 356.62,-132\"/>\n</g>\n<!-- 139659174643936 -->\n<g id=\"node11\" class=\"node\">\n<title>139659174643936</title>\n<polygon fill=\"none\" stroke=\"black\" points=\"914,-25.5 914,-61.5 1155,-61.5 1155,-25.5 914,-25.5\"/>\n<text text-anchor=\"middle\" x=\"924.5\" y=\"-39.8\" font-family=\"Times,serif\" font-size=\"14.00\">j</text>\n<polyline fill=\"none\" stroke=\"black\" points=\"935,-25.5 935,-61.5 \"/>\n<text text-anchor=\"middle\" x=\"993\" y=\"-39.8\" font-family=\"Times,serif\" font-size=\"14.00\">data &#45;30.0000</text>\n<polyline fill=\"none\" stroke=\"black\" points=\"1051,-25.5 1051,-61.5 \"/>\n<text text-anchor=\"middle\" x=\"1103\" y=\"-39.8\" font-family=\"Times,serif\" font-size=\"14.00\">grad 0.0000</text>\n</g>\n<!-- 139659174643936&#45;&gt;139659935176304&#45; -->\n<g id=\"edge15\" class=\"edge\">\n<title>139659174643936&#45;&gt;139659935176304&#45;</title>\n<path fill=\"none\" stroke=\"black\" d=\"M1155.11,-50.32C1278.99,-57.39 1465.1,-68 1542.85,-72.44\"/>\n<polygon fill=\"black\" stroke=\"black\" points=\"1542.9,-75.95 1553.09,-73.02 1543.3,-68.96 1542.9,-75.95\"/>\n</g>\n<!-- 139659174643936* -->\n<g id=\"node12\" class=\"node\">\n<title>139659174643936*</title>\n<ellipse fill=\"none\" stroke=\"black\" cx=\"302\" cy=\"-19.5\" rx=\"27\" ry=\"18\"/>\n<text text-anchor=\"middle\" x=\"302\" y=\"-15.8\" font-family=\"Times,serif\" font-size=\"14.00\">*</text>\n</g>\n<!-- 139659174643936*&#45;&gt;139659174643936 -->\n<g id=\"edge6\" class=\"edge\">\n<title>139659174643936*&#45;&gt;139659174643936</title>\n<path fill=\"none\" stroke=\"black\" d=\"M329,-20.35C419.69,-23.33 726.15,-33.4 903.58,-39.23\"/>\n<polygon fill=\"black\" stroke=\"black\" points=\"903.65,-42.74 913.76,-39.57 903.88,-35.74 903.65,-42.74\"/>\n</g>\n<!-- 139659173964576 -->\n<g id=\"node13\" class=\"node\">\n<title>139659173964576</title>\n<polygon fill=\"none\" stroke=\"black\" points=\"5.5,-110.5 5.5,-146.5 233.5,-146.5 233.5,-110.5 5.5,-110.5\"/>\n<text text-anchor=\"middle\" x=\"16.5\" y=\"-124.8\" font-family=\"Times,serif\" font-size=\"14.00\">f</text>\n<polyline fill=\"none\" stroke=\"black\" points=\"27.5,-110.5 27.5,-146.5 \"/>\n<text text-anchor=\"middle\" x=\"78.5\" y=\"-124.8\" font-family=\"Times,serif\" font-size=\"14.00\">data 6.0300</text>\n<polyline fill=\"none\" stroke=\"black\" points=\"129.5,-110.5 129.5,-146.5 \"/>\n<text text-anchor=\"middle\" x=\"181.5\" y=\"-124.8\" font-family=\"Times,serif\" font-size=\"14.00\">grad 0.0000</text>\n</g>\n<!-- 139659173964576&#45;&gt;139659174642256* -->\n<g id=\"edge13\" class=\"edge\">\n<title>139659173964576&#45;&gt;139659174642256*</title>\n<path fill=\"none\" stroke=\"black\" d=\"M204.49,-146.53C216.17,-149.56 227.94,-152.9 239,-156.5 249.32,-159.86 260.33,-164.21 270.16,-168.39\"/>\n<polygon fill=\"black\" stroke=\"black\" points=\"268.96,-171.68 279.52,-172.46 271.75,-165.26 268.96,-171.68\"/>\n</g>\n<!-- 139659174643072* -->\n<g id=\"node16\" class=\"node\">\n<title>139659174643072*</title>\n<ellipse fill=\"none\" stroke=\"black\" cx=\"302\" cy=\"-73.5\" rx=\"27\" ry=\"18\"/>\n<text text-anchor=\"middle\" x=\"302\" y=\"-69.8\" font-family=\"Times,serif\" font-size=\"14.00\">*</text>\n</g>\n<!-- 139659173964576&#45;&gt;139659174643072* -->\n<g id=\"edge14\" class=\"edge\">\n<title>139659173964576&#45;&gt;139659174643072*</title>\n<path fill=\"none\" stroke=\"black\" d=\"M205.18,-110.45C216.63,-107.44 228.17,-104.11 239,-100.5 249.44,-97.02 260.55,-92.47 270.44,-88.1\"/>\n<polygon fill=\"black\" stroke=\"black\" points=\"272.19,-91.15 279.85,-83.83 269.3,-84.78 272.19,-91.15\"/>\n</g>\n<!-- 139660328862048 -->\n<g id=\"node14\" class=\"node\">\n<title>139660328862048</title>\n<polygon fill=\"none\" stroke=\"black\" points=\"1,-55.5 1,-91.5 238,-91.5 238,-55.5 1,-55.5\"/>\n<text text-anchor=\"middle\" x=\"14\" y=\"-69.8\" font-family=\"Times,serif\" font-size=\"14.00\">b</text>\n<polyline fill=\"none\" stroke=\"black\" points=\"27,-55.5 27,-91.5 \"/>\n<text text-anchor=\"middle\" x=\"80.5\" y=\"-69.8\" font-family=\"Times,serif\" font-size=\"14.00\">data &#45;3.0000</text>\n<polyline fill=\"none\" stroke=\"black\" points=\"134,-55.5 134,-91.5 \"/>\n<text text-anchor=\"middle\" x=\"186\" y=\"-69.8\" font-family=\"Times,serif\" font-size=\"14.00\">grad 0.0000</text>\n</g>\n<!-- 139660328862048&#45;&gt;139659173962464* -->\n<g id=\"edge21\" class=\"edge\">\n<title>139660328862048&#45;&gt;139659173962464*</title>\n<path fill=\"none\" stroke=\"black\" d=\"M208.73,-91.54C219.02,-94.25 229.3,-97.24 239,-100.5 249.69,-104.09 261.03,-108.9 271.05,-113.52\"/>\n<polygon fill=\"black\" stroke=\"black\" points=\"269.65,-116.73 280.19,-117.84 272.64,-110.4 269.65,-116.73\"/>\n</g>\n<!-- 139660328862048&#45;&gt;139659174643936* -->\n<g id=\"edge17\" class=\"edge\">\n<title>139660328862048&#45;&gt;139659174643936*</title>\n<path fill=\"none\" stroke=\"black\" d=\"M204.49,-55.47C216.17,-52.44 227.94,-49.1 239,-45.5 249.32,-42.14 260.33,-37.79 270.16,-33.61\"/>\n<polygon fill=\"black\" stroke=\"black\" points=\"271.75,-36.74 279.52,-29.54 268.96,-30.32 271.75,-36.74\"/>\n</g>\n<!-- 139659174643072 -->\n<g id=\"node15\" class=\"node\">\n<title>139659174643072</title>\n<polygon fill=\"none\" stroke=\"black\" points=\"365,-55.5 365,-91.5 606,-91.5 606,-55.5 365,-55.5\"/>\n<text text-anchor=\"middle\" x=\"378\" y=\"-69.8\" font-family=\"Times,serif\" font-size=\"14.00\">h</text>\n<polyline fill=\"none\" stroke=\"black\" points=\"391,-55.5 391,-91.5 \"/>\n<text text-anchor=\"middle\" x=\"446.5\" y=\"-69.8\" font-family=\"Times,serif\" font-size=\"14.00\">data 60.3000</text>\n<polyline fill=\"none\" stroke=\"black\" points=\"502,-55.5 502,-91.5 \"/>\n<text text-anchor=\"middle\" x=\"554\" y=\"-69.8\" font-family=\"Times,serif\" font-size=\"14.00\">grad 0.0000</text>\n</g>\n<!-- 139659174643072&#45;&gt;139659935176400+ -->\n<g id=\"edge16\" class=\"edge\">\n<title>139659174643072&#45;&gt;139659935176400+</title>\n<path fill=\"none\" stroke=\"black\" d=\"M606.02,-89.29C648.62,-94.92 693.43,-100.84 723.46,-104.81\"/>\n<polygon fill=\"black\" stroke=\"black\" points=\"723.07,-108.28 733.44,-106.12 723.99,-101.34 723.07,-108.28\"/>\n</g>\n<!-- 139659174643072*&#45;&gt;139659174643072 -->\n<g id=\"edge7\" class=\"edge\">\n<title>139659174643072*&#45;&gt;139659174643072</title>\n<path fill=\"none\" stroke=\"black\" d=\"M329,-73.5C336.5,-73.5 345.22,-73.5 354.64,-73.5\"/>\n<polygon fill=\"black\" stroke=\"black\" points=\"354.68,-77 364.68,-73.5 354.68,-70 354.68,-77\"/>\n</g>\n<!-- 139659173962128 -->\n<g id=\"node17\" class=\"node\">\n<title>139659173962128</title>\n<polygon fill=\"none\" stroke=\"black\" points=\"0,-0.5 0,-36.5 239,-36.5 239,-0.5 0,-0.5\"/>\n<text text-anchor=\"middle\" x=\"12\" y=\"-14.8\" font-family=\"Times,serif\" font-size=\"14.00\">c</text>\n<polyline fill=\"none\" stroke=\"black\" points=\"24,-0.5 24,-36.5 \"/>\n<text text-anchor=\"middle\" x=\"79.5\" y=\"-14.8\" font-family=\"Times,serif\" font-size=\"14.00\">data 10.0000</text>\n<polyline fill=\"none\" stroke=\"black\" points=\"135,-0.5 135,-36.5 \"/>\n<text text-anchor=\"middle\" x=\"187\" y=\"-14.8\" font-family=\"Times,serif\" font-size=\"14.00\">grad 0.0000</text>\n</g>\n<!-- 139659173962128&#45;&gt;139659174643936* -->\n<g id=\"edge11\" class=\"edge\">\n<title>139659173962128&#45;&gt;139659174643936*</title>\n<path fill=\"none\" stroke=\"black\" d=\"M239.13,-19.16C248.24,-19.21 256.92,-19.26 264.74,-19.3\"/>\n<polygon fill=\"black\" stroke=\"black\" points=\"264.82,-22.8 274.84,-19.36 264.85,-15.8 264.82,-22.8\"/>\n</g>\n<!-- 139659173962128&#45;&gt;139659174643072* -->\n<g id=\"edge8\" class=\"edge\">\n<title>139659173962128&#45;&gt;139659174643072*</title>\n<path fill=\"none\" stroke=\"black\" d=\"M208.73,-36.54C219.02,-39.25 229.3,-42.24 239,-45.5 249.69,-49.09 261.03,-53.9 271.05,-58.52\"/>\n<polygon fill=\"black\" stroke=\"black\" points=\"269.65,-61.73 280.19,-62.84 272.64,-55.4 269.65,-61.73\"/>\n</g>\n<!-- 139659173964192 -->\n<g id=\"node18\" class=\"node\">\n<title>139659173964192</title>\n<polygon fill=\"none\" stroke=\"black\" points=\"4,-165.5 4,-201.5 235,-201.5 235,-165.5 4,-165.5\"/>\n<text text-anchor=\"middle\" x=\"16.5\" y=\"-179.8\" font-family=\"Times,serif\" font-size=\"14.00\">a</text>\n<polyline fill=\"none\" stroke=\"black\" points=\"29,-165.5 29,-201.5 \"/>\n<text text-anchor=\"middle\" x=\"80\" y=\"-179.8\" font-family=\"Times,serif\" font-size=\"14.00\">data 2.0000</text>\n<polyline fill=\"none\" stroke=\"black\" points=\"131,-165.5 131,-201.5 \"/>\n<text text-anchor=\"middle\" x=\"183\" y=\"-179.8\" font-family=\"Times,serif\" font-size=\"14.00\">grad 0.0000</text>\n</g>\n<!-- 139659173964192&#45;&gt;139659174642256* -->\n<g id=\"edge10\" class=\"edge\">\n<title>139659173964192&#45;&gt;139659174642256*</title>\n<path fill=\"none\" stroke=\"black\" d=\"M235.07,-182.87C245.7,-182.81 255.84,-182.75 264.84,-182.7\"/>\n<polygon fill=\"black\" stroke=\"black\" points=\"264.87,-186.2 274.85,-182.64 264.83,-179.2 264.87,-186.2\"/>\n</g>\n<!-- 139659173964192&#45;&gt;139659173962464* -->\n<g id=\"edge9\" class=\"edge\">\n<title>139659173964192&#45;&gt;139659173962464*</title>\n<path fill=\"none\" stroke=\"black\" d=\"M208.73,-165.46C219.02,-162.75 229.3,-159.76 239,-156.5 249.69,-152.91 261.03,-148.1 271.05,-143.48\"/>\n<polygon fill=\"black\" stroke=\"black\" points=\"272.64,-146.6 280.19,-139.16 269.65,-140.27 272.64,-146.6\"/>\n</g>\n</g>\n</svg>\n",
      "text/plain": [
       "<graphviz.graphs.Digraph at 0x7f051cd354c0>"
      ]
     },
     "execution_count": 37,
     "metadata": {},
     "output_type": "execute_result"
    }
   ],
   "source": [
    "a = Value(2.0,label = 'a')\n",
    "b = Value(-3.0,label = 'b')\n",
    "c = Value(10.0,label = 'c')\n",
    "f = Value(6.03,label = 'f')\n",
    "g = a*b;g.label = 'g'\n",
    "h = c*f;h.label = 'h'\n",
    "i = f*a;i.label = 'i'\n",
    "j = b*c;j.label = 'j'\n",
    "d = g+h+i-j;d.label = 'd'\n",
    "draw_dot(d)"
   ]
  },
  {
   "cell_type": "markdown",
   "metadata": {},
   "source": [
    "Now we start by backprop. basically measuring how much d changes with every other input variable\n",
    "In the following cell I basicvally do differentiation by using the forst principles. I simply add a delta to whichever variable i want to find out the derivative for. This method numerically approximates the derivative, which we can use to cross check with our algorithmic differentiation implementation of the backprob"
   ]
  },
  {
   "cell_type": "code",
   "execution_count": null,
   "metadata": {},
   "outputs": [
    {
     "name": "stdout",
     "output_type": "stream",
     "text": [
      "6.320999972331265\n"
     ]
    }
   ],
   "source": [
    "def lol(): \n",
    "    delta = .000001\n",
    "    #f(x)\n",
    "    a = Value(3.0,label = 'a')\n",
    "    b = Value(-3.0,label = 'b')\n",
    "    c = Value(10.0,label = 'c')\n",
    "    f = Value(6.03,label = 'f')\n",
    "    n = Value(0.7,label ='n')\n",
    "    g = a*b;g.label = 'g'\n",
    "    h = c*f;h.label = 'h'\n",
    "    i = f*a;i.label = 'i'\n",
    "    j = b*c;j.label = 'j'\n",
    "    k = g+h;k.label = 'k'\n",
    "    l = i-j;l.label = 'l'\n",
    "    m = k+l;m.label = 'm'\n",
    "    d = n*m;d.label = 'd'\n",
    "    L1= d.data\n",
    "#f(x+delta) in this just add delta to whichever variable the derivative must be found for.\n",
    "    a = Value(3.0+delta,label = 'a') # to find the end derivative wrt a\n",
    "    b = Value(-3.0,label = 'b')\n",
    "    c = Value(10.0,label = 'c')\n",
    "    f = Value(6.03,label = 'f')\n",
    "    n = Value(0.7,label ='n')\n",
    "    g = a*b;g.label = 'g'\n",
    "    h = c*f;h.label = 'h'\n",
    "    i = f*a;i.label = 'i'\n",
    "    j = b*c;j.label = 'j'\n",
    "    k = g+h;k.label = 'k' \n",
    "    l = i-j;l.label = 'l'\n",
    "    m = k+l;m.label = 'm'\n",
    "    d = n*m;d.label = 'd'\n",
    "    L2= d.data\n",
    "#slope  = [f(x+delta)-f(x)]/delta\n",
    "    print((L2-L1)/delta)\n",
    "\n",
    "lol()\n",
    "\n",
    "\n",
    "    "
   ]
  },
  {
   "cell_type": "code",
   "execution_count": 78,
   "metadata": {},
   "outputs": [
    {
     "data": {
      "image/svg+xml": "<?xml version=\"1.0\" encoding=\"UTF-8\" standalone=\"no\"?>\n<!DOCTYPE svg PUBLIC \"-//W3C//DTD SVG 1.1//EN\"\n \"http://www.w3.org/Graphics/SVG/1.1/DTD/svg11.dtd\">\n<!-- Generated by graphviz version 2.43.0 (0)\n -->\n<!-- Title: %3 Pages: 1 -->\n<svg width=\"1724pt\" height=\"236pt\"\n viewBox=\"0.00 0.00 1724.00 236.00\" xmlns=\"http://www.w3.org/2000/svg\" xmlns:xlink=\"http://www.w3.org/1999/xlink\">\n<g id=\"graph0\" class=\"graph\" transform=\"scale(1 1) rotate(0) translate(4 232)\">\n<title>%3</title>\n<polygon fill=\"white\" stroke=\"transparent\" points=\"-4,4 -4,-232 1720,-232 1720,4 -4,4\"/>\n<!-- 139659934235184 -->\n<g id=\"node1\" class=\"node\">\n<title>139659934235184</title>\n<polygon fill=\"none\" stroke=\"black\" points=\"0,-136.5 0,-172.5 241,-172.5 241,-136.5 0,-136.5\"/>\n<text text-anchor=\"middle\" x=\"13\" y=\"-150.8\" font-family=\"Times,serif\" font-size=\"14.00\">b</text>\n<polyline fill=\"none\" stroke=\"black\" points=\"26,-136.5 26,-172.5 \"/>\n<text text-anchor=\"middle\" x=\"79.5\" y=\"-150.8\" font-family=\"Times,serif\" font-size=\"14.00\">data &#45;3.0000</text>\n<polyline fill=\"none\" stroke=\"black\" points=\"133,-136.5 133,-172.5 \"/>\n<text text-anchor=\"middle\" x=\"187\" y=\"-150.8\" font-family=\"Times,serif\" font-size=\"14.00\">grad &#45;4.9000</text>\n</g>\n<!-- 139659933339360* -->\n<g id=\"node10\" class=\"node\">\n<title>139659933339360*</title>\n<ellipse fill=\"none\" stroke=\"black\" cx=\"304\" cy=\"-209.5\" rx=\"27\" ry=\"18\"/>\n<text text-anchor=\"middle\" x=\"304\" y=\"-205.8\" font-family=\"Times,serif\" font-size=\"14.00\">*</text>\n</g>\n<!-- 139659934235184&#45;&gt;139659933339360* -->\n<g id=\"edge23\" class=\"edge\">\n<title>139659934235184&#45;&gt;139659933339360*</title>\n<path fill=\"none\" stroke=\"black\" d=\"M206.89,-172.52C218.45,-175.53 230.08,-178.88 241,-182.5 251.45,-185.97 262.56,-190.52 272.44,-194.89\"/>\n<polygon fill=\"black\" stroke=\"black\" points=\"271.3,-198.21 281.85,-199.16 274.19,-191.84 271.3,-198.21\"/>\n</g>\n<!-- 139659932800864* -->\n<g id=\"node17\" class=\"node\">\n<title>139659932800864*</title>\n<ellipse fill=\"none\" stroke=\"black\" cx=\"304\" cy=\"-101.5\" rx=\"27\" ry=\"18\"/>\n<text text-anchor=\"middle\" x=\"304\" y=\"-97.8\" font-family=\"Times,serif\" font-size=\"14.00\">*</text>\n</g>\n<!-- 139659934235184&#45;&gt;139659932800864* -->\n<g id=\"edge15\" class=\"edge\">\n<title>139659934235184&#45;&gt;139659932800864*</title>\n<path fill=\"none\" stroke=\"black\" d=\"M209.43,-136.48C220.14,-133.75 230.87,-130.74 241,-127.5 251.34,-124.19 262.35,-119.86 272.18,-115.68\"/>\n<polygon fill=\"black\" stroke=\"black\" points=\"273.78,-118.8 281.54,-111.59 270.98,-112.38 273.78,-118.8\"/>\n</g>\n<!-- 139659934234704 -->\n<g id=\"node2\" class=\"node\">\n<title>139659934234704</title>\n<polygon fill=\"none\" stroke=\"black\" points=\"5,-26.5 5,-62.5 236,-62.5 236,-26.5 5,-26.5\"/>\n<text text-anchor=\"middle\" x=\"17.5\" y=\"-40.8\" font-family=\"Times,serif\" font-size=\"14.00\">a</text>\n<polyline fill=\"none\" stroke=\"black\" points=\"30,-26.5 30,-62.5 \"/>\n<text text-anchor=\"middle\" x=\"81\" y=\"-40.8\" font-family=\"Times,serif\" font-size=\"14.00\">data 3.0000</text>\n<polyline fill=\"none\" stroke=\"black\" points=\"132,-26.5 132,-62.5 \"/>\n<text text-anchor=\"middle\" x=\"184\" y=\"-40.8\" font-family=\"Times,serif\" font-size=\"14.00\">grad 2.1210</text>\n</g>\n<!-- 139659933338208* -->\n<g id=\"node4\" class=\"node\">\n<title>139659933338208*</title>\n<ellipse fill=\"none\" stroke=\"black\" cx=\"304\" cy=\"-44.5\" rx=\"27\" ry=\"18\"/>\n<text text-anchor=\"middle\" x=\"304\" y=\"-40.8\" font-family=\"Times,serif\" font-size=\"14.00\">*</text>\n</g>\n<!-- 139659934234704&#45;&gt;139659933338208* -->\n<g id=\"edge17\" class=\"edge\">\n<title>139659934234704&#45;&gt;139659933338208*</title>\n<path fill=\"none\" stroke=\"black\" d=\"M236.19,-44.5C247.04,-44.5 257.41,-44.5 266.59,-44.5\"/>\n<polygon fill=\"black\" stroke=\"black\" points=\"266.8,-48 276.8,-44.5 266.8,-41 266.8,-48\"/>\n</g>\n<!-- 139659934234704&#45;&gt;139659932800864* -->\n<g id=\"edge20\" class=\"edge\">\n<title>139659934234704&#45;&gt;139659932800864*</title>\n<path fill=\"none\" stroke=\"black\" d=\"M207.95,-62.5C219.17,-65.49 230.43,-68.83 241,-72.5 251.81,-76.25 263.25,-81.28 273.32,-86.09\"/>\n<polygon fill=\"black\" stroke=\"black\" points=\"271.98,-89.33 282.5,-90.6 275.06,-83.05 271.98,-89.33\"/>\n</g>\n<!-- 139659933338208 -->\n<g id=\"node3\" class=\"node\">\n<title>139659933338208</title>\n<polygon fill=\"none\" stroke=\"black\" points=\"371.5,-0.5 371.5,-36.5 607.5,-36.5 607.5,-0.5 371.5,-0.5\"/>\n<text text-anchor=\"middle\" x=\"382\" y=\"-14.8\" font-family=\"Times,serif\" font-size=\"14.00\">i</text>\n<polyline fill=\"none\" stroke=\"black\" points=\"392.5,-0.5 392.5,-36.5 \"/>\n<text text-anchor=\"middle\" x=\"448\" y=\"-14.8\" font-family=\"Times,serif\" font-size=\"14.00\">data 18.0900</text>\n<polyline fill=\"none\" stroke=\"black\" points=\"503.5,-0.5 503.5,-36.5 \"/>\n<text text-anchor=\"middle\" x=\"555.5\" y=\"-14.8\" font-family=\"Times,serif\" font-size=\"14.00\">grad 0.7000</text>\n</g>\n<!-- 139659933336912&#45; -->\n<g id=\"node15\" class=\"node\">\n<title>139659933336912&#45;</title>\n<ellipse fill=\"none\" stroke=\"black\" cx=\"675\" cy=\"-73.5\" rx=\"27\" ry=\"18\"/>\n<text text-anchor=\"middle\" x=\"675\" y=\"-69.8\" font-family=\"Times,serif\" font-size=\"14.00\">&#45;</text>\n</g>\n<!-- 139659933338208&#45;&gt;139659933336912&#45; -->\n<g id=\"edge13\" class=\"edge\">\n<title>139659933338208&#45;&gt;139659933336912&#45;</title>\n<path fill=\"none\" stroke=\"black\" d=\"M581.3,-36.52C591.74,-39.23 602.16,-42.22 612,-45.5 622.7,-49.06 634.04,-53.86 644.06,-58.48\"/>\n<polygon fill=\"black\" stroke=\"black\" points=\"642.66,-61.69 653.2,-62.81 645.66,-55.37 642.66,-61.69\"/>\n</g>\n<!-- 139659933338208*&#45;&gt;139659933338208 -->\n<g id=\"edge1\" class=\"edge\">\n<title>139659933338208*&#45;&gt;139659933338208</title>\n<path fill=\"none\" stroke=\"black\" d=\"M330.51,-40.88C339.27,-39.64 349.76,-38.16 361.1,-36.55\"/>\n<polygon fill=\"black\" stroke=\"black\" points=\"361.86,-39.98 371.27,-35.11 360.88,-33.05 361.86,-39.98\"/>\n</g>\n<!-- 139659932799088 -->\n<g id=\"node5\" class=\"node\">\n<title>139659932799088</title>\n<polygon fill=\"none\" stroke=\"black\" points=\"1106,-137.5 1106,-173.5 1347,-173.5 1347,-137.5 1106,-137.5\"/>\n<text text-anchor=\"middle\" x=\"1119\" y=\"-151.8\" font-family=\"Times,serif\" font-size=\"14.00\">n</text>\n<polyline fill=\"none\" stroke=\"black\" points=\"1132,-137.5 1132,-173.5 \"/>\n<text text-anchor=\"middle\" x=\"1183\" y=\"-151.8\" font-family=\"Times,serif\" font-size=\"14.00\">data 0.7000</text>\n<polyline fill=\"none\" stroke=\"black\" points=\"1234,-137.5 1234,-173.5 \"/>\n<text text-anchor=\"middle\" x=\"1290.5\" y=\"-151.8\" font-family=\"Times,serif\" font-size=\"14.00\">grad 99.3900</text>\n</g>\n<!-- 139659933338064* -->\n<g id=\"node21\" class=\"node\">\n<title>139659933338064*</title>\n<ellipse fill=\"none\" stroke=\"black\" cx=\"1412\" cy=\"-127.5\" rx=\"27\" ry=\"18\"/>\n<text text-anchor=\"middle\" x=\"1412\" y=\"-123.8\" font-family=\"Times,serif\" font-size=\"14.00\">*</text>\n</g>\n<!-- 139659932799088&#45;&gt;139659933338064* -->\n<g id=\"edge12\" class=\"edge\">\n<title>139659932799088&#45;&gt;139659933338064*</title>\n<path fill=\"none\" stroke=\"black\" d=\"M1345.53,-137.49C1356.23,-135.86 1366.41,-134.3 1375.42,-132.93\"/>\n<polygon fill=\"black\" stroke=\"black\" points=\"1376.05,-136.37 1385.41,-131.4 1375,-129.45 1376.05,-136.37\"/>\n</g>\n<!-- 139659932800144 -->\n<g id=\"node6\" class=\"node\">\n<title>139659932800144</title>\n<polygon fill=\"none\" stroke=\"black\" points=\"369,-165.5 369,-201.5 610,-201.5 610,-165.5 369,-165.5\"/>\n<text text-anchor=\"middle\" x=\"382\" y=\"-179.8\" font-family=\"Times,serif\" font-size=\"14.00\">h</text>\n<polyline fill=\"none\" stroke=\"black\" points=\"395,-165.5 395,-201.5 \"/>\n<text text-anchor=\"middle\" x=\"450.5\" y=\"-179.8\" font-family=\"Times,serif\" font-size=\"14.00\">data 60.3000</text>\n<polyline fill=\"none\" stroke=\"black\" points=\"506,-165.5 506,-201.5 \"/>\n<text text-anchor=\"middle\" x=\"558\" y=\"-179.8\" font-family=\"Times,serif\" font-size=\"14.00\">grad 0.7000</text>\n</g>\n<!-- 139659933337344+ -->\n<g id=\"node12\" class=\"node\">\n<title>139659933337344+</title>\n<ellipse fill=\"none\" stroke=\"black\" cx=\"675\" cy=\"-128.5\" rx=\"27\" ry=\"18\"/>\n<text text-anchor=\"middle\" x=\"675\" y=\"-124.8\" font-family=\"Times,serif\" font-size=\"14.00\">+</text>\n</g>\n<!-- 139659932800144&#45;&gt;139659933337344+ -->\n<g id=\"edge9\" class=\"edge\">\n<title>139659932800144&#45;&gt;139659933337344+</title>\n<path fill=\"none\" stroke=\"black\" d=\"M581.3,-165.48C591.74,-162.77 602.16,-159.78 612,-156.5 622.7,-152.94 634.04,-148.14 644.06,-143.52\"/>\n<polygon fill=\"black\" stroke=\"black\" points=\"645.66,-146.63 653.2,-139.19 642.66,-140.31 645.66,-146.63\"/>\n</g>\n<!-- 139659932800144* -->\n<g id=\"node7\" class=\"node\">\n<title>139659932800144*</title>\n<ellipse fill=\"none\" stroke=\"black\" cx=\"304\" cy=\"-155.5\" rx=\"27\" ry=\"18\"/>\n<text text-anchor=\"middle\" x=\"304\" y=\"-151.8\" font-family=\"Times,serif\" font-size=\"14.00\">*</text>\n</g>\n<!-- 139659932800144*&#45;&gt;139659932800144 -->\n<g id=\"edge2\" class=\"edge\">\n<title>139659932800144*&#45;&gt;139659932800144</title>\n<path fill=\"none\" stroke=\"black\" d=\"M330.51,-159.39C339.12,-160.71 349.39,-162.27 360.51,-163.97\"/>\n<polygon fill=\"black\" stroke=\"black\" points=\"360.07,-167.44 370.48,-165.49 361.12,-160.52 360.07,-167.44\"/>\n</g>\n<!-- 139659932801728 -->\n<g id=\"node8\" class=\"node\">\n<title>139659932801728</title>\n<polygon fill=\"none\" stroke=\"black\" points=\"6.5,-81.5 6.5,-117.5 234.5,-117.5 234.5,-81.5 6.5,-81.5\"/>\n<text text-anchor=\"middle\" x=\"17.5\" y=\"-95.8\" font-family=\"Times,serif\" font-size=\"14.00\">f</text>\n<polyline fill=\"none\" stroke=\"black\" points=\"28.5,-81.5 28.5,-117.5 \"/>\n<text text-anchor=\"middle\" x=\"79.5\" y=\"-95.8\" font-family=\"Times,serif\" font-size=\"14.00\">data 6.0300</text>\n<polyline fill=\"none\" stroke=\"black\" points=\"130.5,-81.5 130.5,-117.5 \"/>\n<text text-anchor=\"middle\" x=\"182.5\" y=\"-95.8\" font-family=\"Times,serif\" font-size=\"14.00\">grad 9.1000</text>\n</g>\n<!-- 139659932801728&#45;&gt;139659933338208* -->\n<g id=\"edge19\" class=\"edge\">\n<title>139659932801728&#45;&gt;139659933338208*</title>\n<path fill=\"none\" stroke=\"black\" d=\"M210.48,-81.5C220.85,-78.78 231.22,-75.78 241,-72.5 251.69,-68.92 263.04,-64.11 273.05,-59.5\"/>\n<polygon fill=\"black\" stroke=\"black\" points=\"274.65,-62.61 282.19,-55.17 271.65,-56.29 274.65,-62.61\"/>\n</g>\n<!-- 139659932801728&#45;&gt;139659932800144* -->\n<g id=\"edge24\" class=\"edge\">\n<title>139659932801728&#45;&gt;139659932800144*</title>\n<path fill=\"none\" stroke=\"black\" d=\"M207.58,-117.55C218.92,-120.54 230.31,-123.87 241,-127.5 251.68,-131.12 263.02,-135.94 273.04,-140.55\"/>\n<polygon fill=\"black\" stroke=\"black\" points=\"271.64,-143.76 282.18,-144.87 274.63,-137.44 271.64,-143.76\"/>\n</g>\n<!-- 139659933339360 -->\n<g id=\"node9\" class=\"node\">\n<title>139659933339360</title>\n<polygon fill=\"none\" stroke=\"black\" points=\"367,-55.5 367,-91.5 612,-91.5 612,-55.5 367,-55.5\"/>\n<text text-anchor=\"middle\" x=\"377.5\" y=\"-69.8\" font-family=\"Times,serif\" font-size=\"14.00\">j</text>\n<polyline fill=\"none\" stroke=\"black\" points=\"388,-55.5 388,-91.5 \"/>\n<text text-anchor=\"middle\" x=\"446\" y=\"-69.8\" font-family=\"Times,serif\" font-size=\"14.00\">data &#45;30.0000</text>\n<polyline fill=\"none\" stroke=\"black\" points=\"504,-55.5 504,-91.5 \"/>\n<text text-anchor=\"middle\" x=\"558\" y=\"-69.8\" font-family=\"Times,serif\" font-size=\"14.00\">grad &#45;0.7000</text>\n</g>\n<!-- 139659933339360&#45;&gt;139659933336912&#45; -->\n<g id=\"edge18\" class=\"edge\">\n<title>139659933339360&#45;&gt;139659933336912&#45;</title>\n<path fill=\"none\" stroke=\"black\" d=\"M612.13,-73.5C621.26,-73.5 629.95,-73.5 637.78,-73.5\"/>\n<polygon fill=\"black\" stroke=\"black\" points=\"637.88,-77 647.88,-73.5 637.88,-70 637.88,-77\"/>\n</g>\n<!-- 139659933339360*&#45;&gt;139659933339360 -->\n<g id=\"edge3\" class=\"edge\">\n<title>139659933339360*&#45;&gt;139659933339360</title>\n<path fill=\"none\" stroke=\"black\" d=\"M320.58,-195.17C324.28,-191.29 328.02,-186.93 331,-182.5 353,-149.82 336.6,-126.56 367,-101.5 369.01,-99.84 371.1,-98.28 373.25,-96.81\"/>\n<polygon fill=\"black\" stroke=\"black\" points=\"375.16,-99.74 381.88,-91.55 371.52,-93.76 375.16,-99.74\"/>\n</g>\n<!-- 139659933337344 -->\n<g id=\"node11\" class=\"node\">\n<title>139659933337344</title>\n<polygon fill=\"none\" stroke=\"black\" points=\"738,-110.5 738,-146.5 978,-146.5 978,-110.5 738,-110.5\"/>\n<text text-anchor=\"middle\" x=\"750.5\" y=\"-124.8\" font-family=\"Times,serif\" font-size=\"14.00\">k</text>\n<polyline fill=\"none\" stroke=\"black\" points=\"763,-110.5 763,-146.5 \"/>\n<text text-anchor=\"middle\" x=\"818.5\" y=\"-124.8\" font-family=\"Times,serif\" font-size=\"14.00\">data 51.3000</text>\n<polyline fill=\"none\" stroke=\"black\" points=\"874,-110.5 874,-146.5 \"/>\n<text text-anchor=\"middle\" x=\"926\" y=\"-124.8\" font-family=\"Times,serif\" font-size=\"14.00\">grad 0.7000</text>\n</g>\n<!-- 139659933339072+ -->\n<g id=\"node19\" class=\"node\">\n<title>139659933339072+</title>\n<ellipse fill=\"none\" stroke=\"black\" cx=\"1041\" cy=\"-100.5\" rx=\"27\" ry=\"18\"/>\n<text text-anchor=\"middle\" x=\"1041\" y=\"-96.8\" font-family=\"Times,serif\" font-size=\"14.00\">+</text>\n</g>\n<!-- 139659933337344&#45;&gt;139659933339072+ -->\n<g id=\"edge21\" class=\"edge\">\n<title>139659933337344&#45;&gt;139659933339072+</title>\n<path fill=\"none\" stroke=\"black\" d=\"M975.42,-110.49C985.76,-108.89 995.61,-107.37 1004.36,-106.01\"/>\n<polygon fill=\"black\" stroke=\"black\" points=\"1005.11,-109.44 1014.45,-104.45 1004.03,-102.52 1005.11,-109.44\"/>\n</g>\n<!-- 139659933337344+&#45;&gt;139659933337344 -->\n<g id=\"edge4\" class=\"edge\">\n<title>139659933337344+&#45;&gt;139659933337344</title>\n<path fill=\"none\" stroke=\"black\" d=\"M702.32,-128.5C709.81,-128.5 718.52,-128.5 727.91,-128.5\"/>\n<polygon fill=\"black\" stroke=\"black\" points=\"727.91,-132 737.91,-128.5 727.91,-125 727.91,-132\"/>\n</g>\n<!-- 139659932802880 -->\n<g id=\"node13\" class=\"node\">\n<title>139659932802880</title>\n<polygon fill=\"none\" stroke=\"black\" points=\"1,-191.5 1,-227.5 240,-227.5 240,-191.5 1,-191.5\"/>\n<text text-anchor=\"middle\" x=\"13\" y=\"-205.8\" font-family=\"Times,serif\" font-size=\"14.00\">c</text>\n<polyline fill=\"none\" stroke=\"black\" points=\"25,-191.5 25,-227.5 \"/>\n<text text-anchor=\"middle\" x=\"80.5\" y=\"-205.8\" font-family=\"Times,serif\" font-size=\"14.00\">data 10.0000</text>\n<polyline fill=\"none\" stroke=\"black\" points=\"136,-191.5 136,-227.5 \"/>\n<text text-anchor=\"middle\" x=\"188\" y=\"-205.8\" font-family=\"Times,serif\" font-size=\"14.00\">grad 6.3210</text>\n</g>\n<!-- 139659932802880&#45;&gt;139659932800144* -->\n<g id=\"edge14\" class=\"edge\">\n<title>139659932802880&#45;&gt;139659932800144*</title>\n<path fill=\"none\" stroke=\"black\" d=\"M210.11,-191.45C220.6,-188.73 231.1,-185.74 241,-182.5 251.46,-179.07 262.57,-174.54 272.46,-170.16\"/>\n<polygon fill=\"black\" stroke=\"black\" points=\"274.21,-173.21 281.87,-165.89 271.31,-166.84 274.21,-173.21\"/>\n</g>\n<!-- 139659932802880&#45;&gt;139659933339360* -->\n<g id=\"edge11\" class=\"edge\">\n<title>139659932802880&#45;&gt;139659933339360*</title>\n<path fill=\"none\" stroke=\"black\" d=\"M240.03,-209.5C249.57,-209.5 258.66,-209.5 266.81,-209.5\"/>\n<polygon fill=\"black\" stroke=\"black\" points=\"266.95,-213 276.95,-209.5 266.95,-206 266.95,-213\"/>\n</g>\n<!-- 139659933336912 -->\n<g id=\"node14\" class=\"node\">\n<title>139659933336912</title>\n<polygon fill=\"none\" stroke=\"black\" points=\"740,-55.5 740,-91.5 976,-91.5 976,-55.5 740,-55.5\"/>\n<text text-anchor=\"middle\" x=\"750.5\" y=\"-69.8\" font-family=\"Times,serif\" font-size=\"14.00\">l</text>\n<polyline fill=\"none\" stroke=\"black\" points=\"761,-55.5 761,-91.5 \"/>\n<text text-anchor=\"middle\" x=\"816.5\" y=\"-69.8\" font-family=\"Times,serif\" font-size=\"14.00\">data 48.0900</text>\n<polyline fill=\"none\" stroke=\"black\" points=\"872,-55.5 872,-91.5 \"/>\n<text text-anchor=\"middle\" x=\"924\" y=\"-69.8\" font-family=\"Times,serif\" font-size=\"14.00\">grad 0.7000</text>\n</g>\n<!-- 139659933336912&#45;&gt;139659933339072+ -->\n<g id=\"edge22\" class=\"edge\">\n<title>139659933336912&#45;&gt;139659933339072+</title>\n<path fill=\"none\" stroke=\"black\" d=\"M976.19,-90.98C986.33,-92.49 995.99,-93.93 1004.58,-95.22\"/>\n<polygon fill=\"black\" stroke=\"black\" points=\"1004.08,-98.68 1014.48,-96.69 1005.11,-91.76 1004.08,-98.68\"/>\n</g>\n<!-- 139659933336912&#45;&#45;&gt;139659933336912 -->\n<g id=\"edge5\" class=\"edge\">\n<title>139659933336912&#45;&#45;&gt;139659933336912</title>\n<path fill=\"none\" stroke=\"black\" d=\"M702.32,-73.5C710.26,-73.5 719.56,-73.5 729.59,-73.5\"/>\n<polygon fill=\"black\" stroke=\"black\" points=\"729.84,-77 739.84,-73.5 729.84,-70 729.84,-77\"/>\n</g>\n<!-- 139659932800864 -->\n<g id=\"node16\" class=\"node\">\n<title>139659932800864</title>\n<polygon fill=\"none\" stroke=\"black\" points=\"371,-110.5 371,-146.5 608,-146.5 608,-110.5 371,-110.5\"/>\n<text text-anchor=\"middle\" x=\"384\" y=\"-124.8\" font-family=\"Times,serif\" font-size=\"14.00\">g</text>\n<polyline fill=\"none\" stroke=\"black\" points=\"397,-110.5 397,-146.5 \"/>\n<text text-anchor=\"middle\" x=\"450.5\" y=\"-124.8\" font-family=\"Times,serif\" font-size=\"14.00\">data &#45;9.0000</text>\n<polyline fill=\"none\" stroke=\"black\" points=\"504,-110.5 504,-146.5 \"/>\n<text text-anchor=\"middle\" x=\"556\" y=\"-124.8\" font-family=\"Times,serif\" font-size=\"14.00\">grad 0.7000</text>\n</g>\n<!-- 139659932800864&#45;&gt;139659933337344+ -->\n<g id=\"edge16\" class=\"edge\">\n<title>139659932800864&#45;&gt;139659933337344+</title>\n<path fill=\"none\" stroke=\"black\" d=\"M608.01,-128.5C618.68,-128.5 628.84,-128.5 637.86,-128.5\"/>\n<polygon fill=\"black\" stroke=\"black\" points=\"637.87,-132 647.87,-128.5 637.87,-125 637.87,-132\"/>\n</g>\n<!-- 139659932800864*&#45;&gt;139659932800864 -->\n<g id=\"edge6\" class=\"edge\">\n<title>139659932800864*&#45;&gt;139659932800864</title>\n<path fill=\"none\" stroke=\"black\" d=\"M330.51,-105.25C339.2,-106.53 349.58,-108.06 360.81,-109.71\"/>\n<polygon fill=\"black\" stroke=\"black\" points=\"360.47,-113.2 370.88,-111.19 361.49,-106.27 360.47,-113.2\"/>\n</g>\n<!-- 139659933339072 -->\n<g id=\"node18\" class=\"node\">\n<title>139659933339072</title>\n<polygon fill=\"none\" stroke=\"black\" points=\"1104,-82.5 1104,-118.5 1349,-118.5 1349,-82.5 1104,-82.5\"/>\n<text text-anchor=\"middle\" x=\"1119\" y=\"-96.8\" font-family=\"Times,serif\" font-size=\"14.00\">m</text>\n<polyline fill=\"none\" stroke=\"black\" points=\"1134,-82.5 1134,-118.5 \"/>\n<text text-anchor=\"middle\" x=\"1189.5\" y=\"-96.8\" font-family=\"Times,serif\" font-size=\"14.00\">data 99.3900</text>\n<polyline fill=\"none\" stroke=\"black\" points=\"1245,-82.5 1245,-118.5 \"/>\n<text text-anchor=\"middle\" x=\"1297\" y=\"-96.8\" font-family=\"Times,serif\" font-size=\"14.00\">grad 0.7000</text>\n</g>\n<!-- 139659933339072&#45;&gt;139659933338064* -->\n<g id=\"edge10\" class=\"edge\">\n<title>139659933339072&#45;&gt;139659933338064*</title>\n<path fill=\"none\" stroke=\"black\" d=\"M1349.13,-118.4C1358.55,-119.78 1367.5,-121.1 1375.52,-122.28\"/>\n<polygon fill=\"black\" stroke=\"black\" points=\"1375.08,-125.75 1385.48,-123.75 1376.1,-118.83 1375.08,-125.75\"/>\n</g>\n<!-- 139659933339072+&#45;&gt;139659933339072 -->\n<g id=\"edge7\" class=\"edge\">\n<title>139659933339072+&#45;&gt;139659933339072</title>\n<path fill=\"none\" stroke=\"black\" d=\"M1068.29,-100.5C1075.79,-100.5 1084.51,-100.5 1093.93,-100.5\"/>\n<polygon fill=\"black\" stroke=\"black\" points=\"1093.97,-104 1103.97,-100.5 1093.97,-97 1093.97,-104\"/>\n</g>\n<!-- 139659933338064 -->\n<g id=\"node20\" class=\"node\">\n<title>139659933338064</title>\n<polygon fill=\"none\" stroke=\"black\" points=\"1475,-109.5 1475,-145.5 1716,-145.5 1716,-109.5 1475,-109.5\"/>\n<text text-anchor=\"middle\" x=\"1488\" y=\"-123.8\" font-family=\"Times,serif\" font-size=\"14.00\">L</text>\n<polyline fill=\"none\" stroke=\"black\" points=\"1501,-109.5 1501,-145.5 \"/>\n<text text-anchor=\"middle\" x=\"1556.5\" y=\"-123.8\" font-family=\"Times,serif\" font-size=\"14.00\">data 69.5730</text>\n<polyline fill=\"none\" stroke=\"black\" points=\"1612,-109.5 1612,-145.5 \"/>\n<text text-anchor=\"middle\" x=\"1664\" y=\"-123.8\" font-family=\"Times,serif\" font-size=\"14.00\">grad 1.0000</text>\n</g>\n<!-- 139659933338064*&#45;&gt;139659933338064 -->\n<g id=\"edge8\" class=\"edge\">\n<title>139659933338064*&#45;&gt;139659933338064</title>\n<path fill=\"none\" stroke=\"black\" d=\"M1439,-127.5C1446.5,-127.5 1455.22,-127.5 1464.64,-127.5\"/>\n<polygon fill=\"black\" stroke=\"black\" points=\"1464.68,-131 1474.68,-127.5 1464.68,-124 1464.68,-131\"/>\n</g>\n</g>\n</svg>\n",
      "text/plain": [
       "<graphviz.graphs.Digraph at 0x7f051cb74610>"
      ]
     },
     "execution_count": 78,
     "metadata": {},
     "output_type": "execute_result"
    }
   ],
   "source": [
    "    a = Value(3.0,label = 'a')\n",
    "    b = Value(-3.0,label = 'b')\n",
    "    c = Value(10.0,label = 'c')\n",
    "    f = Value(6.03,label = 'f')\n",
    "    n = Value(0.7,label ='n')\n",
    "    g = a*b;g.label = 'g'\n",
    "    h = c*f;h.label = 'h'\n",
    "    i = f*a;i.label = 'i'\n",
    "    j = b*c;j.label = 'j'\n",
    "    k = g+h;k.label = 'k'\n",
    "    l = i-j;l.label = 'l'\n",
    "    m = k+l;m.label = 'm'\n",
    "    d = n*m;d.label = 'd'\n",
    "    L = d;L.label = 'L'\n",
    "    #manually perform one backward pass by explicitly stating the relation between each state based on the analytical differentiation \n",
    "    # L.grad = 1.0\n",
    "    d.grad = 1.0 # gradient of endstage with itself\n",
    "    m.grad += n.data*d.grad # applying chain rule for each stage i.e (dx/dy) = (dx/dc) .(dc/dy) in this case [d(L)/dm] = [d(d)/dm].[d(L)/d(d)]                   \n",
    "    n.grad += m.data*d.grad\n",
    "    l.grad += 1.0*m.grad #local derivative ( of m with respect to l)*derivative of L wrt m gives derivative of L wrt l\n",
    "    k.grad += 1.0*m.grad\n",
    "    h.grad += 1.0*k.grad\n",
    "    g.grad += 1.0*k.grad\n",
    "    i.grad += 1.0*l.grad\n",
    "    j.grad += -1.0*l.grad\n",
    "    f.grad += a.data*i.grad\n",
    "    a.grad += f.data*i.grad\n",
    "    f.grad += c.data*h.grad\n",
    "    c.grad += f.data*h.grad\n",
    "    a.grad += b.data*g.grad\n",
    "    b.grad += a.data*g.grad\n",
    "    c.grad += b.data*j.grad\n",
    "    b.grad += c.data*j.grad\n",
    "\n",
    "\n",
    "    \n",
    "\n",
    "    draw_dot(L)"
   ]
  },
  {
   "cell_type": "markdown",
   "metadata": {},
   "source": [
    "In case we want to maximise the rgadient of the final value, all we do is nudge the gradients of the variables we control to make a change in the final value. Basically we use gradient descent with a fixed scalar value \n"
   ]
  },
  {
   "cell_type": "code",
   "execution_count": null,
   "metadata": {},
   "outputs": [],
   "source": [
    "alpha = 0.001\n",
    "#apply gradient descent ( forward pass)\n",
    "a.data += alpha*a.grad   \n",
    "b.data += alpha*b.grad\n",
    "c.data += alpha*c.grad\n",
    "f.data += alpha*f.grad\n",
    "n.data += alpha*n.grad\n",
    "\n",
    "g = a*b;g.label = 'g'\n",
    "h = c*f;h.label = 'h'\n",
    "i = f*a;i.label = 'i'\n",
    "j = b*c;j.label = 'j'\n",
    "k = g+h;k.label = 'k'\n",
    "l = i-j;l.label = 'l'\n",
    "m = k+l;m.label = 'm'\n",
    "d = n*m;d.label = 'd'\n",
    "L = d;L.label = 'L'\n",
    "\n",
    "draw_dot(L)\n"
   ]
  },
  {
   "cell_type": "markdown",
   "metadata": {},
   "source": [
    "Basically in this next cell i ran one forward pass, then backpropagated along with a forward pass for 10 iterations."
   ]
  },
  {
   "cell_type": "code",
   "execution_count": 103,
   "metadata": {},
   "outputs": [
    {
     "name": "stdout",
     "output_type": "stream",
     "text": [
      "L -70.57618005671414 0.0\n",
      "L -72.5842735920787 0.0\n",
      "L -75.60079873947338 0.0\n",
      "L -79.6311612047816 0.0\n",
      "L -84.68280927565503 0.0\n",
      "L -90.76544187550998 0.0\n",
      "L -97.89127091697233 0.0\n",
      "L -106.07533961953568 0.0\n",
      "L -115.33589893237234 0.0\n",
      "L -125.6948447607864 0.0\n"
     ]
    }
   ],
   "source": [
    "    \n",
    "        a = Value(3.0,label = 'a')\n",
    "        b = Value(-3.0,label = 'b')\n",
    "        c = Value(10.0,label = 'c')\n",
    "        f = Value(6.03,label = 'f')\n",
    "        n = Value(-0.7,label ='n')\n",
    "        g = a*b;g.label = 'g'\n",
    "        h = c*f;h.label = 'h'\n",
    "        i = f*a;i.label = 'i'\n",
    "        j = b*c;j.label = 'j'\n",
    "        k = g+h;k.label = 'k'\n",
    "        l = i-j;l.label = 'l'\n",
    "        m = k+l;m.label = 'm'\n",
    "        d = n*m;d.label = 'd'\n",
    "        L = d;L.label = 'L'\n",
    "        for z in range (0,10): #run for 10 iterations\n",
    "            #manually perform one backward pass by explicitly stating the relation between each state based on the analytical differentiation \n",
    "            L.grad += 1.0\n",
    "            d.grad =+ 1.0 # gradient of endstage with itself\n",
    "            m.grad += n.data*d.grad # applying chain rule for each stage i.e (dx/dy) = (dx/dc) .(dc/dy) in this case [d(L)/dm] = [d(d)/dm].[d(L)/d(d)]                   \n",
    "            n.grad += m.data*d.grad\n",
    "            l.grad += 1.0*m.grad #local derivative ( of m with respect to l)*derivative of L wrt m gives derivative of L wrt l\n",
    "            k.grad += 1.0*m.grad\n",
    "            h.grad += 1.0*k.grad\n",
    "            g.grad += 1.0*k.grad\n",
    "            i.grad += 1.0*l.grad\n",
    "            j.grad += -1.0*l.grad\n",
    "            f.grad += a.data*i.grad\n",
    "            a.grad += f.data*i.grad\n",
    "            f.grad += c.data*h.grad\n",
    "            c.grad += f.data*h.grad\n",
    "            a.grad += b.data*g.grad\n",
    "            b.grad += a.data*g.grad\n",
    "            c.grad += b.data*j.grad\n",
    "            b.grad += c.data*j.grad\n",
    "\n",
    "            alpha = 0.0001\n",
    "            #apply gradient descent ( for forward pass)\n",
    "            a.data -= alpha*a.grad   \n",
    "            b.data -= alpha*b.grad\n",
    "            c.data -= alpha*c.grad\n",
    "            f.data -= alpha*f.grad\n",
    "            n.data -= alpha*n.grad\n",
    "            #forward pass\n",
    "            g = a*b;g.label = 'g'\n",
    "            h = c*f;h.label = 'h'\n",
    "            i = f*a;i.label = 'i'\n",
    "            j = b*c;j.label = 'j'\n",
    "            k = g+h;k.label = 'k'\n",
    "            l = i-j;l.label = 'l'\n",
    "            m = k+l;m.label = 'm'\n",
    "            d = n*m;d.label = 'd'\n",
    "            L = d;L.label = 'L'\n",
    "\n",
    "\n",
    "            print( L.label,L.data,L.grad) \n",
    "\n",
    "\n",
    "\n",
    "    "
   ]
  },
  {
   "cell_type": "markdown",
   "metadata": {},
   "source": [
    "Onto using this concept in neurons. We define the tanh function\n"
   ]
  },
  {
   "cell_type": "code",
   "execution_count": 104,
   "metadata": {},
   "outputs": [
    {
     "data": {
      "image/png": "[encoded data removed]",
      "text/plain": [
       "<Figure size 640x480 with 1 Axes>"
      ]
     },
     "metadata": {},
     "output_type": "display_data"
    }
   ],
   "source": [
    "plt.plot(np.arange(-5,5,.2),np.tanh(np.arange(-5,5,.2)));plt.grid();"
   ]
  },
  {
   "cell_type": "markdown",
   "metadata": {},
   "source": [
    "Now onto creating a basic neuron, we use one with a 2 variable input and weights to show the basic working of it"
   ]
  },
  {
   "cell_type": "code",
   "execution_count": 105,
   "metadata": {},
   "outputs": [
    {
     "data": {
      "image/svg+xml": "<?xml version=\"1.0\" encoding=\"UTF-8\" standalone=\"no\"?>\n<!DOCTYPE svg PUBLIC \"-//W3C//DTD SVG 1.1//EN\"\n \"http://www.w3.org/Graphics/SVG/1.1/DTD/svg11.dtd\">\n<!-- Generated by graphviz version 2.43.0 (0)\n -->\n<!-- Title: %3 Pages: 1 -->\n<svg width=\"1535pt\" height=\"210pt\"\n viewBox=\"0.00 0.00 1535.00 210.00\" xmlns=\"http://www.w3.org/2000/svg\" xmlns:xlink=\"http://www.w3.org/1999/xlink\">\n<g id=\"graph0\" class=\"graph\" transform=\"scale(1 1) rotate(0) translate(4 206)\">\n<title>%3</title>\n<polygon fill=\"white\" stroke=\"transparent\" points=\"-4,4 -4,-206 1531,-206 1531,4 -4,4\"/>\n<!-- 139659931386400 -->\n<g id=\"node1\" class=\"node\">\n<title>139659931386400</title>\n<polygon fill=\"none\" stroke=\"black\" points=\"824,-137.5 824,-173.5 1085,-173.5 1085,-137.5 824,-137.5\"/>\n<text text-anchor=\"middle\" x=\"847\" y=\"-151.8\" font-family=\"Times,serif\" font-size=\"14.00\">bias</text>\n<polyline fill=\"none\" stroke=\"black\" points=\"870,-137.5 870,-173.5 \"/>\n<text text-anchor=\"middle\" x=\"925.5\" y=\"-151.8\" font-family=\"Times,serif\" font-size=\"14.00\">data 10.0000</text>\n<polyline fill=\"none\" stroke=\"black\" points=\"981,-137.5 981,-173.5 \"/>\n<text text-anchor=\"middle\" x=\"1033\" y=\"-151.8\" font-family=\"Times,serif\" font-size=\"14.00\">grad 0.0000</text>\n</g>\n<!-- 139659931386016+ -->\n<g id=\"node5\" class=\"node\">\n<title>139659931386016+</title>\n<ellipse fill=\"none\" stroke=\"black\" cx=\"1189\" cy=\"-127.5\" rx=\"27\" ry=\"18\"/>\n<text text-anchor=\"middle\" x=\"1189\" y=\"-123.8\" font-family=\"Times,serif\" font-size=\"14.00\">+</text>\n</g>\n<!-- 139659931386400&#45;&gt;139659931386016+ -->\n<g id=\"edge11\" class=\"edge\">\n<title>139659931386400&#45;&gt;139659931386016+</title>\n<path fill=\"none\" stroke=\"black\" d=\"M1085.01,-139.9C1109.7,-136.93 1133.59,-134.05 1152.13,-131.82\"/>\n<polygon fill=\"black\" stroke=\"black\" points=\"1152.61,-135.29 1162.12,-130.62 1151.78,-128.34 1152.61,-135.29\"/>\n</g>\n<!-- 139659931389040 -->\n<g id=\"node2\" class=\"node\">\n<title>139659931389040</title>\n<polygon fill=\"none\" stroke=\"black\" points=\"4.5,-165.5 4.5,-201.5 244.5,-201.5 244.5,-165.5 4.5,-165.5\"/>\n<text text-anchor=\"middle\" x=\"21.5\" y=\"-179.8\" font-family=\"Times,serif\" font-size=\"14.00\">x2</text>\n<polyline fill=\"none\" stroke=\"black\" points=\"38.5,-165.5 38.5,-201.5 \"/>\n<text text-anchor=\"middle\" x=\"89.5\" y=\"-179.8\" font-family=\"Times,serif\" font-size=\"14.00\">data 0.0000</text>\n<polyline fill=\"none\" stroke=\"black\" points=\"140.5,-165.5 140.5,-201.5 \"/>\n<text text-anchor=\"middle\" x=\"192.5\" y=\"-179.8\" font-family=\"Times,serif\" font-size=\"14.00\">grad 0.0000</text>\n</g>\n<!-- 139659931386112* -->\n<g id=\"node9\" class=\"node\">\n<title>139659931386112*</title>\n<ellipse fill=\"none\" stroke=\"black\" cx=\"312\" cy=\"-128.5\" rx=\"27\" ry=\"18\"/>\n<text text-anchor=\"middle\" x=\"312\" y=\"-124.8\" font-family=\"Times,serif\" font-size=\"14.00\">*</text>\n</g>\n<!-- 139659931389040&#45;&gt;139659931386112* -->\n<g id=\"edge6\" class=\"edge\">\n<title>139659931389040&#45;&gt;139659931386112*</title>\n<path fill=\"none\" stroke=\"black\" d=\"M218.13,-165.46C228.63,-162.77 239.1,-159.78 249,-156.5 259.71,-152.96 271.05,-148.16 281.07,-143.54\"/>\n<polygon fill=\"black\" stroke=\"black\" points=\"282.67,-146.66 290.2,-139.21 279.67,-140.33 282.67,-146.66\"/>\n</g>\n<!-- 139659931386496 -->\n<g id=\"node3\" class=\"node\">\n<title>139659931386496</title>\n<polygon fill=\"none\" stroke=\"black\" points=\"2.5,-110.5 2.5,-146.5 246.5,-146.5 246.5,-110.5 2.5,-110.5\"/>\n<text text-anchor=\"middle\" x=\"21.5\" y=\"-124.8\" font-family=\"Times,serif\" font-size=\"14.00\">w2</text>\n<polyline fill=\"none\" stroke=\"black\" points=\"40.5,-110.5 40.5,-146.5 \"/>\n<text text-anchor=\"middle\" x=\"91.5\" y=\"-124.8\" font-family=\"Times,serif\" font-size=\"14.00\">data 1.0000</text>\n<polyline fill=\"none\" stroke=\"black\" points=\"142.5,-110.5 142.5,-146.5 \"/>\n<text text-anchor=\"middle\" x=\"194.5\" y=\"-124.8\" font-family=\"Times,serif\" font-size=\"14.00\">grad 0.0000</text>\n</g>\n<!-- 139659931386496&#45;&gt;139659931386112* -->\n<g id=\"edge8\" class=\"edge\">\n<title>139659931386496&#45;&gt;139659931386112*</title>\n<path fill=\"none\" stroke=\"black\" d=\"M246.64,-128.5C256.7,-128.5 266.26,-128.5 274.79,-128.5\"/>\n<polygon fill=\"black\" stroke=\"black\" points=\"275,-132 285,-128.5 275,-125 275,-132\"/>\n</g>\n<!-- 139659931386016 -->\n<g id=\"node4\" class=\"node\">\n<title>139659931386016</title>\n<polygon fill=\"none\" stroke=\"black\" points=\"1252,-109.5 1252,-145.5 1527,-145.5 1527,-109.5 1252,-109.5\"/>\n<text text-anchor=\"middle\" x=\"1284\" y=\"-123.8\" font-family=\"Times,serif\" font-size=\"14.00\">output</text>\n<polyline fill=\"none\" stroke=\"black\" points=\"1316,-109.5 1316,-145.5 \"/>\n<text text-anchor=\"middle\" x=\"1369.5\" y=\"-123.8\" font-family=\"Times,serif\" font-size=\"14.00\">data &#45;5.6000</text>\n<polyline fill=\"none\" stroke=\"black\" points=\"1423,-109.5 1423,-145.5 \"/>\n<text text-anchor=\"middle\" x=\"1475\" y=\"-123.8\" font-family=\"Times,serif\" font-size=\"14.00\">grad 0.0000</text>\n</g>\n<!-- 139659931386016+&#45;&gt;139659931386016 -->\n<g id=\"edge1\" class=\"edge\">\n<title>139659931386016+&#45;&gt;139659931386016</title>\n<path fill=\"none\" stroke=\"black\" d=\"M1216.36,-127.5C1223.8,-127.5 1232.45,-127.5 1241.84,-127.5\"/>\n<polygon fill=\"black\" stroke=\"black\" points=\"1241.88,-131 1251.88,-127.5 1241.88,-124 1241.88,-131\"/>\n</g>\n<!-- 139659931389136 -->\n<g id=\"node6\" class=\"node\">\n<title>139659931389136</title>\n<polygon fill=\"none\" stroke=\"black\" points=\"4.5,-55.5 4.5,-91.5 244.5,-91.5 244.5,-55.5 4.5,-55.5\"/>\n<text text-anchor=\"middle\" x=\"21.5\" y=\"-69.8\" font-family=\"Times,serif\" font-size=\"14.00\">x1</text>\n<polyline fill=\"none\" stroke=\"black\" points=\"38.5,-55.5 38.5,-91.5 \"/>\n<text text-anchor=\"middle\" x=\"89.5\" y=\"-69.8\" font-family=\"Times,serif\" font-size=\"14.00\">data 5.2000</text>\n<polyline fill=\"none\" stroke=\"black\" points=\"140.5,-55.5 140.5,-91.5 \"/>\n<text text-anchor=\"middle\" x=\"192.5\" y=\"-69.8\" font-family=\"Times,serif\" font-size=\"14.00\">grad 0.0000</text>\n</g>\n<!-- 139659931386304* -->\n<g id=\"node13\" class=\"node\">\n<title>139659931386304*</title>\n<ellipse fill=\"none\" stroke=\"black\" cx=\"312\" cy=\"-73.5\" rx=\"27\" ry=\"18\"/>\n<text text-anchor=\"middle\" x=\"312\" y=\"-69.8\" font-family=\"Times,serif\" font-size=\"14.00\">*</text>\n</g>\n<!-- 139659931389136&#45;&gt;139659931386304* -->\n<g id=\"edge10\" class=\"edge\">\n<title>139659931389136&#45;&gt;139659931386304*</title>\n<path fill=\"none\" stroke=\"black\" d=\"M244.55,-73.5C255.31,-73.5 265.54,-73.5 274.62,-73.5\"/>\n<polygon fill=\"black\" stroke=\"black\" points=\"274.7,-77 284.7,-73.5 274.7,-70 274.7,-77\"/>\n</g>\n<!-- 139659931386592 -->\n<g id=\"node7\" class=\"node\">\n<title>139659931386592</title>\n<polygon fill=\"none\" stroke=\"black\" points=\"0,-0.5 0,-36.5 249,-36.5 249,-0.5 0,-0.5\"/>\n<text text-anchor=\"middle\" x=\"19\" y=\"-14.8\" font-family=\"Times,serif\" font-size=\"14.00\">w1</text>\n<polyline fill=\"none\" stroke=\"black\" points=\"38,-0.5 38,-36.5 \"/>\n<text text-anchor=\"middle\" x=\"91.5\" y=\"-14.8\" font-family=\"Times,serif\" font-size=\"14.00\">data &#45;3.0000</text>\n<polyline fill=\"none\" stroke=\"black\" points=\"145,-0.5 145,-36.5 \"/>\n<text text-anchor=\"middle\" x=\"197\" y=\"-14.8\" font-family=\"Times,serif\" font-size=\"14.00\">grad 0.0000</text>\n</g>\n<!-- 139659931386592&#45;&gt;139659931386304* -->\n<g id=\"edge5\" class=\"edge\">\n<title>139659931386592&#45;&gt;139659931386304*</title>\n<path fill=\"none\" stroke=\"black\" d=\"M214.42,-36.55C226.15,-39.54 237.93,-42.87 249,-46.5 259.46,-49.93 270.57,-54.47 280.46,-58.84\"/>\n<polygon fill=\"black\" stroke=\"black\" points=\"279.31,-62.17 289.87,-63.12 282.21,-55.79 279.31,-62.17\"/>\n</g>\n<!-- 139659931386112 -->\n<g id=\"node8\" class=\"node\">\n<title>139659931386112</title>\n<polygon fill=\"none\" stroke=\"black\" points=\"382,-110.5 382,-146.5 650,-146.5 650,-110.5 382,-110.5\"/>\n<text text-anchor=\"middle\" x=\"413\" y=\"-124.8\" font-family=\"Times,serif\" font-size=\"14.00\">x2*w2</text>\n<polyline fill=\"none\" stroke=\"black\" points=\"444,-110.5 444,-146.5 \"/>\n<text text-anchor=\"middle\" x=\"495\" y=\"-124.8\" font-family=\"Times,serif\" font-size=\"14.00\">data 0.0000</text>\n<polyline fill=\"none\" stroke=\"black\" points=\"546,-110.5 546,-146.5 \"/>\n<text text-anchor=\"middle\" x=\"598\" y=\"-124.8\" font-family=\"Times,serif\" font-size=\"14.00\">grad 0.0000</text>\n</g>\n<!-- 139659931386160+ -->\n<g id=\"node11\" class=\"node\">\n<title>139659931386160+</title>\n<ellipse fill=\"none\" stroke=\"black\" cx=\"720\" cy=\"-100.5\" rx=\"27\" ry=\"18\"/>\n<text text-anchor=\"middle\" x=\"720\" y=\"-96.8\" font-family=\"Times,serif\" font-size=\"14.00\">+</text>\n</g>\n<!-- 139659931386112&#45;&gt;139659931386160+ -->\n<g id=\"edge7\" class=\"edge\">\n<title>139659931386112&#45;&gt;139659931386160+</title>\n<path fill=\"none\" stroke=\"black\" d=\"M646.93,-110.49C660.14,-108.66 672.63,-106.93 683.39,-105.44\"/>\n<polygon fill=\"black\" stroke=\"black\" points=\"684.1,-108.87 693.52,-104.03 683.14,-101.94 684.1,-108.87\"/>\n</g>\n<!-- 139659931386112*&#45;&gt;139659931386112 -->\n<g id=\"edge2\" class=\"edge\">\n<title>139659931386112*&#45;&gt;139659931386112</title>\n<path fill=\"none\" stroke=\"black\" d=\"M339.41,-128.5C348.6,-128.5 359.65,-128.5 371.68,-128.5\"/>\n<polygon fill=\"black\" stroke=\"black\" points=\"372,-132 382,-128.5 372,-125 372,-132\"/>\n</g>\n<!-- 139659931386160 -->\n<g id=\"node10\" class=\"node\">\n<title>139659931386160</title>\n<polygon fill=\"none\" stroke=\"black\" points=\"783,-82.5 783,-118.5 1126,-118.5 1126,-82.5 783,-82.5\"/>\n<text text-anchor=\"middle\" x=\"844.5\" y=\"-96.8\" font-family=\"Times,serif\" font-size=\"14.00\">x1*w1 +x2*w2</text>\n<polyline fill=\"none\" stroke=\"black\" points=\"906,-82.5 906,-118.5 \"/>\n<text text-anchor=\"middle\" x=\"964\" y=\"-96.8\" font-family=\"Times,serif\" font-size=\"14.00\">data &#45;15.6000</text>\n<polyline fill=\"none\" stroke=\"black\" points=\"1022,-82.5 1022,-118.5 \"/>\n<text text-anchor=\"middle\" x=\"1074\" y=\"-96.8\" font-family=\"Times,serif\" font-size=\"14.00\">grad 0.0000</text>\n</g>\n<!-- 139659931386160&#45;&gt;139659931386016+ -->\n<g id=\"edge12\" class=\"edge\">\n<title>139659931386160&#45;&gt;139659931386016+</title>\n<path fill=\"none\" stroke=\"black\" d=\"M1110.58,-118.51C1125.91,-120.29 1140.23,-121.95 1152.28,-123.35\"/>\n<polygon fill=\"black\" stroke=\"black\" points=\"1151.91,-126.83 1162.25,-124.51 1152.72,-119.88 1151.91,-126.83\"/>\n</g>\n<!-- 139659931386160+&#45;&gt;139659931386160 -->\n<g id=\"edge3\" class=\"edge\">\n<title>139659931386160+&#45;&gt;139659931386160</title>\n<path fill=\"none\" stroke=\"black\" d=\"M747.22,-100.5C754.62,-100.5 763.28,-100.5 772.78,-100.5\"/>\n<polygon fill=\"black\" stroke=\"black\" points=\"772.97,-104 782.97,-100.5 772.97,-97 772.97,-104\"/>\n</g>\n<!-- 139659931386304 -->\n<g id=\"node12\" class=\"node\">\n<title>139659931386304</title>\n<polygon fill=\"none\" stroke=\"black\" points=\"375,-55.5 375,-91.5 657,-91.5 657,-55.5 375,-55.5\"/>\n<text text-anchor=\"middle\" x=\"406\" y=\"-69.8\" font-family=\"Times,serif\" font-size=\"14.00\">x1*w1</text>\n<polyline fill=\"none\" stroke=\"black\" points=\"437,-55.5 437,-91.5 \"/>\n<text text-anchor=\"middle\" x=\"495\" y=\"-69.8\" font-family=\"Times,serif\" font-size=\"14.00\">data &#45;15.6000</text>\n<polyline fill=\"none\" stroke=\"black\" points=\"553,-55.5 553,-91.5 \"/>\n<text text-anchor=\"middle\" x=\"605\" y=\"-69.8\" font-family=\"Times,serif\" font-size=\"14.00\">grad 0.0000</text>\n</g>\n<!-- 139659931386304&#45;&gt;139659931386160+ -->\n<g id=\"edge9\" class=\"edge\">\n<title>139659931386304&#45;&gt;139659931386160+</title>\n<path fill=\"none\" stroke=\"black\" d=\"M651.74,-91.51C663.09,-93.03 673.81,-94.46 683.21,-95.72\"/>\n<polygon fill=\"black\" stroke=\"black\" points=\"682.85,-99.2 693.22,-97.05 683.78,-92.26 682.85,-99.2\"/>\n</g>\n<!-- 139659931386304*&#45;&gt;139659931386304 -->\n<g id=\"edge4\" class=\"edge\">\n<title>139659931386304*&#45;&gt;139659931386304</title>\n<path fill=\"none\" stroke=\"black\" d=\"M339.41,-73.5C346.71,-73.5 355.19,-73.5 364.4,-73.5\"/>\n<polygon fill=\"black\" stroke=\"black\" points=\"364.67,-77 374.67,-73.5 364.67,-70 364.67,-77\"/>\n</g>\n</g>\n</svg>\n",
      "text/plain": [
       "<graphviz.graphs.Digraph at 0x7f051c992fa0>"
      ]
     },
     "execution_count": 105,
     "metadata": {},
     "output_type": "execute_result"
    }
   ],
   "source": [
    "#input x1,x2\n",
    "x1 = Value(5.2,label = 'x1')\n",
    "x2 = Value(0.0,label = 'x2')\n",
    "\n",
    "#weight initialisation w1,w2\n",
    "w1 = Value(-3.0, label = 'w1')\n",
    "w2 = Value(1.0,label = 'w2')\n",
    "\n",
    "#bias of the neuron\n",
    "b = Value(10,label = 'bias')\n",
    "\n",
    "# x1w1 +x2w2+b\n",
    "x1w1 = x1*w1; x1w1.label = 'x1*w1'\n",
    "x2w2 = x2*w2; x2w2.label = 'x2*w2'\n",
    "x1w1x2w2 = x1w1+x2w2 ;x1w1x2w2.label = 'x1*w1 +x2*w2'\n",
    "r = x1w1x2w2 + b; r.label = 'output'\n",
    "draw_dot(r)"
   ]
  },
  {
   "cell_type": "markdown",
   "metadata": {},
   "source": [
    "With the creation of this neuron, we are now faced with the challenge of normalising it, using a tanh function. We make the changes to the Value class "
   ]
  },
  {
   "cell_type": "code",
   "execution_count": null,
   "metadata": {},
   "outputs": [],
   "source": [
    "class Value:\n",
    "    def __init__(self,data,_children=(),_op = '',label= ''):\n",
    "        self.data = data\n",
    "        self._prev = set(_children)\n",
    "        self._op = _op\n",
    "        self.label = label\n",
    "    def __repr__(self):\n",
    "        return f\"Value(data={self.data})\"\n",
    "    def __add__(self,other):\n",
    "        out = Value(self.data + other.data,(self,other),'+')\n",
    "        return out\n",
    "    def __mul__(self,other):\n",
    "        out  = Value(self.data*  other.data,(self,other),'*')\n",
    "        return out\n",
    "    def __sub__(self,other):\n",
    "        out = Value(self.data-other.data,(self,other),'-')\n",
    "        return out\n",
    "\n",
    "a = Value(2.0)\n",
    "b = Value(-3.0)\n",
    "c = Value(10.0)\n",
    "d = a*b +c\n",
    "d"
   ]
  }
 ],
 "metadata": {
  "kernelspec": {
   "display_name": "Python 3.9.13 ('my_dl_env')",
   "language": "python",
   "name": "python3"
  },
  "language_info": {
   "codemirror_mode": {
    "name": "ipython",
    "version": 3
   },
   "file_extension": ".py",
   "mimetype": "text/x-python",
   "name": "python",
   "nbconvert_exporter": "python",
   "pygments_lexer": "ipython3",
   "version": "3.9.13"
  },
  "orig_nbformat": 4,
  "vscode": {
   "interpreter": {
    "hash": "6067e404069412941d25f207934d6c03eca0dab0d46fca28c77eb2a1361729de"
   }
  }
 },
 "nbformat": 4,
 "nbformat_minor": 2
}
